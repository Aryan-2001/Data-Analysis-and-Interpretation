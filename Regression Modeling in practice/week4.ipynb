{
 "cells": [
  {
   "cell_type": "markdown",
   "metadata": {},
   "source": [
    "# Week 4\n"
   ]
  },
  {
   "cell_type": "markdown",
   "metadata": {},
   "source": [
    "## Logistic Regression(Gapminder)"
   ]
  },
  {
   "cell_type": "markdown",
   "metadata": {},
   "source": [
    "### Importing Libraries"
   ]
  },
  {
   "cell_type": "code",
   "execution_count": 2,
   "metadata": {},
   "outputs": [],
   "source": [
    "import numpy as np\n",
    "import pandas as pd\n",
    "import statsmodels.formula.api as sp"
   ]
  },
  {
   "cell_type": "markdown",
   "metadata": {},
   "source": [
    "### Importing Dataset"
   ]
  },
  {
   "cell_type": "code",
   "execution_count": 3,
   "metadata": {},
   "outputs": [],
   "source": [
    "data1 = pd.read_csv(\"gapminder.csv\")"
   ]
  },
  {
   "cell_type": "code",
   "execution_count": 4,
   "metadata": {},
   "outputs": [],
   "source": [
    "data2 = data1.iloc[:,[0,1,2,3,9,14]].copy()"
   ]
  },
  {
   "cell_type": "code",
   "execution_count": 5,
   "metadata": {},
   "outputs": [
    {
     "data": {
      "text/html": [
       "<div>\n",
       "<style scoped>\n",
       "    .dataframe tbody tr th:only-of-type {\n",
       "        vertical-align: middle;\n",
       "    }\n",
       "\n",
       "    .dataframe tbody tr th {\n",
       "        vertical-align: top;\n",
       "    }\n",
       "\n",
       "    .dataframe thead th {\n",
       "        text-align: right;\n",
       "    }\n",
       "</style>\n",
       "<table border=\"1\" class=\"dataframe\">\n",
       "  <thead>\n",
       "    <tr style=\"text-align: right;\">\n",
       "      <th></th>\n",
       "      <th>country</th>\n",
       "      <th>incomeperperson</th>\n",
       "      <th>alcconsumption</th>\n",
       "      <th>armedforcesrate</th>\n",
       "      <th>lifeexpectancy</th>\n",
       "      <th>employrate</th>\n",
       "    </tr>\n",
       "  </thead>\n",
       "  <tbody>\n",
       "    <tr>\n",
       "      <th>0</th>\n",
       "      <td>Afghanistan</td>\n",
       "      <td></td>\n",
       "      <td>.03</td>\n",
       "      <td>.5696534</td>\n",
       "      <td>48.673</td>\n",
       "      <td>55.7000007629394</td>\n",
       "    </tr>\n",
       "    <tr>\n",
       "      <th>1</th>\n",
       "      <td>Albania</td>\n",
       "      <td>1914.99655094922</td>\n",
       "      <td>7.29</td>\n",
       "      <td>1.0247361</td>\n",
       "      <td>76.918</td>\n",
       "      <td>51.4000015258789</td>\n",
       "    </tr>\n",
       "    <tr>\n",
       "      <th>2</th>\n",
       "      <td>Algeria</td>\n",
       "      <td>2231.99333515006</td>\n",
       "      <td>.69</td>\n",
       "      <td>2.306817</td>\n",
       "      <td>73.131</td>\n",
       "      <td>50.5</td>\n",
       "    </tr>\n",
       "    <tr>\n",
       "      <th>3</th>\n",
       "      <td>Andorra</td>\n",
       "      <td>21943.3398976022</td>\n",
       "      <td>10.17</td>\n",
       "      <td></td>\n",
       "      <td></td>\n",
       "      <td></td>\n",
       "    </tr>\n",
       "    <tr>\n",
       "      <th>4</th>\n",
       "      <td>Angola</td>\n",
       "      <td>1381.00426770244</td>\n",
       "      <td>5.57</td>\n",
       "      <td>1.4613288</td>\n",
       "      <td>51.093</td>\n",
       "      <td>75.6999969482422</td>\n",
       "    </tr>\n",
       "  </tbody>\n",
       "</table>\n",
       "</div>"
      ],
      "text/plain": [
       "       country   incomeperperson alcconsumption armedforcesrate  \\\n",
       "0  Afghanistan                              .03        .5696534   \n",
       "1      Albania  1914.99655094922           7.29       1.0247361   \n",
       "2      Algeria  2231.99333515006            .69        2.306817   \n",
       "3      Andorra  21943.3398976022          10.17                   \n",
       "4       Angola  1381.00426770244           5.57       1.4613288   \n",
       "\n",
       "  lifeexpectancy        employrate  \n",
       "0         48.673  55.7000007629394  \n",
       "1         76.918  51.4000015258789  \n",
       "2         73.131              50.5  \n",
       "3                                   \n",
       "4         51.093  75.6999969482422  "
      ]
     },
     "execution_count": 5,
     "metadata": {},
     "output_type": "execute_result"
    }
   ],
   "source": [
    "data2.head()"
   ]
  },
  {
   "cell_type": "code",
   "execution_count": 6,
   "metadata": {},
   "outputs": [],
   "source": [
    "data2.columns = [\"country\",\"income\",\"alcohol\",\"forces\",\"life\",\"employment\"]"
   ]
  },
  {
   "cell_type": "markdown",
   "metadata": {},
   "source": [
    "### Converting data to float and filling missing with na "
   ]
  },
  {
   "cell_type": "code",
   "execution_count": 7,
   "metadata": {},
   "outputs": [],
   "source": [
    "def fun1(a):\n",
    "    \n",
    "    for i in range(len(a)):\n",
    "        if a[i] ==\" \":\n",
    "            a[i] = np.nan\n",
    "        else :\n",
    "            a[i] = float(a[i])\n",
    "            \n",
    "    x = np.mean(a.dropna())\n",
    "    for i in range(len(a)):\n",
    "        if np.isnan(a[i]):\n",
    "            a[i] = x\n",
    "    "
   ]
  },
  {
   "cell_type": "code",
   "execution_count": 8,
   "metadata": {},
   "outputs": [],
   "source": [
    "for i in data2.columns[1:] :\n",
    "    fun1(data2[i])\n",
    "    "
   ]
  },
  {
   "cell_type": "code",
   "execution_count": 9,
   "metadata": {},
   "outputs": [
    {
     "data": {
      "text/html": [
       "<div>\n",
       "<style scoped>\n",
       "    .dataframe tbody tr th:only-of-type {\n",
       "        vertical-align: middle;\n",
       "    }\n",
       "\n",
       "    .dataframe tbody tr th {\n",
       "        vertical-align: top;\n",
       "    }\n",
       "\n",
       "    .dataframe thead th {\n",
       "        text-align: right;\n",
       "    }\n",
       "</style>\n",
       "<table border=\"1\" class=\"dataframe\">\n",
       "  <thead>\n",
       "    <tr style=\"text-align: right;\">\n",
       "      <th></th>\n",
       "      <th>country</th>\n",
       "      <th>income</th>\n",
       "      <th>alcohol</th>\n",
       "      <th>forces</th>\n",
       "      <th>life</th>\n",
       "      <th>employment</th>\n",
       "    </tr>\n",
       "  </thead>\n",
       "  <tbody>\n",
       "    <tr>\n",
       "      <th>0</th>\n",
       "      <td>Afghanistan</td>\n",
       "      <td>8740.97</td>\n",
       "      <td>0.03</td>\n",
       "      <td>0.569653</td>\n",
       "      <td>48.673</td>\n",
       "      <td>55.7</td>\n",
       "    </tr>\n",
       "    <tr>\n",
       "      <th>1</th>\n",
       "      <td>Albania</td>\n",
       "      <td>1915</td>\n",
       "      <td>7.29</td>\n",
       "      <td>1.02474</td>\n",
       "      <td>76.918</td>\n",
       "      <td>51.4</td>\n",
       "    </tr>\n",
       "    <tr>\n",
       "      <th>2</th>\n",
       "      <td>Algeria</td>\n",
       "      <td>2231.99</td>\n",
       "      <td>0.69</td>\n",
       "      <td>2.30682</td>\n",
       "      <td>73.131</td>\n",
       "      <td>50.5</td>\n",
       "    </tr>\n",
       "    <tr>\n",
       "      <th>3</th>\n",
       "      <td>Andorra</td>\n",
       "      <td>21943.3</td>\n",
       "      <td>10.17</td>\n",
       "      <td>1.44402</td>\n",
       "      <td>69.7535</td>\n",
       "      <td>58.636</td>\n",
       "    </tr>\n",
       "    <tr>\n",
       "      <th>4</th>\n",
       "      <td>Angola</td>\n",
       "      <td>1381</td>\n",
       "      <td>5.57</td>\n",
       "      <td>1.46133</td>\n",
       "      <td>51.093</td>\n",
       "      <td>75.7</td>\n",
       "    </tr>\n",
       "  </tbody>\n",
       "</table>\n",
       "</div>"
      ],
      "text/plain": [
       "       country   income alcohol    forces     life employment\n",
       "0  Afghanistan  8740.97    0.03  0.569653   48.673       55.7\n",
       "1      Albania     1915    7.29   1.02474   76.918       51.4\n",
       "2      Algeria  2231.99    0.69   2.30682   73.131       50.5\n",
       "3      Andorra  21943.3   10.17   1.44402  69.7535     58.636\n",
       "4       Angola     1381    5.57   1.46133   51.093       75.7"
      ]
     },
     "execution_count": 9,
     "metadata": {},
     "output_type": "execute_result"
    }
   ],
   "source": [
    "data2.head()"
   ]
  },
  {
   "cell_type": "markdown",
   "metadata": {},
   "source": [
    "### Removing outliers"
   ]
  },
  {
   "cell_type": "code",
   "execution_count": 57,
   "metadata": {},
   "outputs": [
    {
     "data": {
      "text/html": [
       "<div>\n",
       "<style scoped>\n",
       "    .dataframe tbody tr th:only-of-type {\n",
       "        vertical-align: middle;\n",
       "    }\n",
       "\n",
       "    .dataframe tbody tr th {\n",
       "        vertical-align: top;\n",
       "    }\n",
       "\n",
       "    .dataframe thead th {\n",
       "        text-align: right;\n",
       "    }\n",
       "</style>\n",
       "<table border=\"1\" class=\"dataframe\">\n",
       "  <thead>\n",
       "    <tr style=\"text-align: right;\">\n",
       "      <th></th>\n",
       "      <th>income</th>\n",
       "      <th>alcohol</th>\n",
       "      <th>life</th>\n",
       "      <th>employment</th>\n",
       "    </tr>\n",
       "  </thead>\n",
       "  <tbody>\n",
       "    <tr>\n",
       "      <th>0</th>\n",
       "      <td>8740.97</td>\n",
       "      <td>0.03</td>\n",
       "      <td>48.673</td>\n",
       "      <td>55.7</td>\n",
       "    </tr>\n",
       "    <tr>\n",
       "      <th>1</th>\n",
       "      <td>1915</td>\n",
       "      <td>7.29</td>\n",
       "      <td>76.918</td>\n",
       "      <td>51.4</td>\n",
       "    </tr>\n",
       "    <tr>\n",
       "      <th>2</th>\n",
       "      <td>2231.99</td>\n",
       "      <td>0.69</td>\n",
       "      <td>73.131</td>\n",
       "      <td>50.5</td>\n",
       "    </tr>\n",
       "    <tr>\n",
       "      <th>3</th>\n",
       "      <td>21943.3</td>\n",
       "      <td>10.17</td>\n",
       "      <td>69.7535</td>\n",
       "      <td>58.636</td>\n",
       "    </tr>\n",
       "    <tr>\n",
       "      <th>4</th>\n",
       "      <td>1381</td>\n",
       "      <td>5.57</td>\n",
       "      <td>51.093</td>\n",
       "      <td>75.7</td>\n",
       "    </tr>\n",
       "  </tbody>\n",
       "</table>\n",
       "</div>"
      ],
      "text/plain": [
       "    income alcohol     life employment\n",
       "0  8740.97    0.03   48.673       55.7\n",
       "1     1915    7.29   76.918       51.4\n",
       "2  2231.99    0.69   73.131       50.5\n",
       "3  21943.3   10.17  69.7535     58.636\n",
       "4     1381    5.57   51.093       75.7"
      ]
     },
     "execution_count": 57,
     "metadata": {},
     "output_type": "execute_result"
    }
   ],
   "source": [
    "data3 = data2.iloc[:,[1,2,4,5]].copy()\n",
    "\n",
    "def fun2(a):\n",
    "    \n",
    "    mean = np.mean(a)\n",
    "    std = np.std(a)\n",
    "    mx = mean + 3*std\n",
    "    mn = mean - 3*std\n",
    "    \n",
    "    for i in range(len(a)):\n",
    "        if (a[i]>mx)|(a[i]<mn):\n",
    "            a[i] = np.nan\n",
    "        \n",
    "\n",
    "for i in data3.columns:\n",
    "    fun2(data3[i])\n",
    "\n",
    "data3 = data3.dropna()\n",
    "data3.head()"
   ]
  },
  {
   "cell_type": "code",
   "execution_count": 46,
   "metadata": {},
   "outputs": [
    {
     "data": {
      "text/plain": [
       "5"
      ]
     },
     "execution_count": 46,
     "metadata": {},
     "output_type": "execute_result"
    }
   ],
   "source": [
    "len(data2)-len(data3)"
   ]
  },
  {
   "cell_type": "markdown",
   "metadata": {},
   "source": [
    "This shows 5 rows were dropped as outliers"
   ]
  },
  {
   "cell_type": "markdown",
   "metadata": {},
   "source": [
    "# Logistic regression"
   ]
  },
  {
   "cell_type": "markdown",
   "metadata": {},
   "source": [
    "Since we will be studying if one lives above 70 or not we will categorize life column as 1 if it is >70 and 0 if less than 70\n",
    "and we will be centering rest of the columns"
   ]
  },
  {
   "cell_type": "code",
   "execution_count": 58,
   "metadata": {},
   "outputs": [],
   "source": [
    "def fun3(a):\n",
    "    \n",
    "    x = np.mean(a)\n",
    "    # print(x)\n",
    "    for i in range(len(a)):\n",
    "        # print(i)\n",
    "        a.iloc[i] = a.iloc[i]-x"
   ]
  },
  {
   "cell_type": "code",
   "execution_count": 59,
   "metadata": {},
   "outputs": [],
   "source": [
    "fun3(data3[\"income\"])\n",
    "fun3(data3[\"alcohol\"])\n",
    "fun3(data3[\"employment\"])"
   ]
  },
  {
   "cell_type": "code",
   "execution_count": 60,
   "metadata": {},
   "outputs": [],
   "source": [
    "def fun4(a):\n",
    "    if a>70:\n",
    "        return 1\n",
    "    else :\n",
    "        return 0"
   ]
  },
  {
   "cell_type": "code",
   "execution_count": 61,
   "metadata": {
    "scrolled": true
   },
   "outputs": [],
   "source": [
    "data3[\"life\"] = list(map(fun4,data3[\"life\"]))"
   ]
  },
  {
   "cell_type": "code",
   "execution_count": 62,
   "metadata": {},
   "outputs": [
    {
     "data": {
      "text/plain": [
       "1    114\n",
       "0     94\n",
       "Name: life, dtype: int64"
      ]
     },
     "execution_count": 62,
     "metadata": {},
     "output_type": "execute_result"
    }
   ],
   "source": [
    "data3[\"life\"].value_counts()"
   ]
  },
  {
   "cell_type": "code",
   "execution_count": 63,
   "metadata": {
    "scrolled": true
   },
   "outputs": [
    {
     "data": {
      "text/html": [
       "<div>\n",
       "<style scoped>\n",
       "    .dataframe tbody tr th:only-of-type {\n",
       "        vertical-align: middle;\n",
       "    }\n",
       "\n",
       "    .dataframe tbody tr th {\n",
       "        vertical-align: top;\n",
       "    }\n",
       "\n",
       "    .dataframe thead th {\n",
       "        text-align: right;\n",
       "    }\n",
       "</style>\n",
       "<table border=\"1\" class=\"dataframe\">\n",
       "  <thead>\n",
       "    <tr style=\"text-align: right;\">\n",
       "      <th></th>\n",
       "      <th>income</th>\n",
       "      <th>alcohol</th>\n",
       "      <th>life</th>\n",
       "      <th>employment</th>\n",
       "    </tr>\n",
       "  </thead>\n",
       "  <tbody>\n",
       "    <tr>\n",
       "      <th>0</th>\n",
       "      <td>1243.6</td>\n",
       "      <td>-6.55138</td>\n",
       "      <td>0</td>\n",
       "      <td>-3.02957</td>\n",
       "    </tr>\n",
       "    <tr>\n",
       "      <th>1</th>\n",
       "      <td>-5582.37</td>\n",
       "      <td>0.708623</td>\n",
       "      <td>1</td>\n",
       "      <td>-7.32957</td>\n",
       "    </tr>\n",
       "    <tr>\n",
       "      <th>2</th>\n",
       "      <td>-5265.37</td>\n",
       "      <td>-5.89138</td>\n",
       "      <td>1</td>\n",
       "      <td>-8.22957</td>\n",
       "    </tr>\n",
       "    <tr>\n",
       "      <th>3</th>\n",
       "      <td>14446</td>\n",
       "      <td>3.58862</td>\n",
       "      <td>0</td>\n",
       "      <td>-0.093615</td>\n",
       "    </tr>\n",
       "    <tr>\n",
       "      <th>4</th>\n",
       "      <td>-6116.36</td>\n",
       "      <td>-1.01138</td>\n",
       "      <td>0</td>\n",
       "      <td>16.9704</td>\n",
       "    </tr>\n",
       "  </tbody>\n",
       "</table>\n",
       "</div>"
      ],
      "text/plain": [
       "    income   alcohol  life employment\n",
       "0   1243.6  -6.55138     0   -3.02957\n",
       "1 -5582.37  0.708623     1   -7.32957\n",
       "2 -5265.37  -5.89138     1   -8.22957\n",
       "3    14446   3.58862     0  -0.093615\n",
       "4 -6116.36  -1.01138     0    16.9704"
      ]
     },
     "execution_count": 63,
     "metadata": {},
     "output_type": "execute_result"
    }
   ],
   "source": [
    "data3.head()"
   ]
  },
  {
   "cell_type": "code",
   "execution_count": 71,
   "metadata": {},
   "outputs": [],
   "source": [
    "data3[\"income\"] = pd.to_numeric(data3[\"income\"])\n",
    "data3[\"alcohol\"]  = pd.to_numeric(data3[\"alcohol\"])\n",
    "data3[\"employment\"] = pd.to_numeric(data3[\"employment\"])\n",
    "data3[\"life\"] = pd.to_numeric(data3[\"life\"])"
   ]
  },
  {
   "cell_type": "code",
   "execution_count": 72,
   "metadata": {
    "scrolled": false
   },
   "outputs": [
    {
     "data": {
      "text/html": [
       "<div>\n",
       "<style scoped>\n",
       "    .dataframe tbody tr th:only-of-type {\n",
       "        vertical-align: middle;\n",
       "    }\n",
       "\n",
       "    .dataframe tbody tr th {\n",
       "        vertical-align: top;\n",
       "    }\n",
       "\n",
       "    .dataframe thead th {\n",
       "        text-align: right;\n",
       "    }\n",
       "</style>\n",
       "<table border=\"1\" class=\"dataframe\">\n",
       "  <thead>\n",
       "    <tr style=\"text-align: right;\">\n",
       "      <th></th>\n",
       "      <th>income</th>\n",
       "      <th>alcohol</th>\n",
       "      <th>life</th>\n",
       "      <th>employment</th>\n",
       "    </tr>\n",
       "  </thead>\n",
       "  <tbody>\n",
       "    <tr>\n",
       "      <th>0</th>\n",
       "      <td>1243.602481</td>\n",
       "      <td>-6.551377</td>\n",
       "      <td>0</td>\n",
       "      <td>-3.029569</td>\n",
       "    </tr>\n",
       "    <tr>\n",
       "      <th>1</th>\n",
       "      <td>-5582.367044</td>\n",
       "      <td>0.708623</td>\n",
       "      <td>1</td>\n",
       "      <td>-7.329569</td>\n",
       "    </tr>\n",
       "    <tr>\n",
       "      <th>2</th>\n",
       "      <td>-5265.370260</td>\n",
       "      <td>-5.891377</td>\n",
       "      <td>1</td>\n",
       "      <td>-8.229570</td>\n",
       "    </tr>\n",
       "    <tr>\n",
       "      <th>3</th>\n",
       "      <td>14445.976302</td>\n",
       "      <td>3.588623</td>\n",
       "      <td>0</td>\n",
       "      <td>-0.093615</td>\n",
       "    </tr>\n",
       "    <tr>\n",
       "      <th>4</th>\n",
       "      <td>-6116.359327</td>\n",
       "      <td>-1.011377</td>\n",
       "      <td>0</td>\n",
       "      <td>16.970427</td>\n",
       "    </tr>\n",
       "    <tr>\n",
       "      <th>...</th>\n",
       "      <td>...</td>\n",
       "      <td>...</td>\n",
       "      <td>...</td>\n",
       "      <td>...</td>\n",
       "    </tr>\n",
       "    <tr>\n",
       "      <th>208</th>\n",
       "      <td>-6774.556036</td>\n",
       "      <td>-2.671377</td>\n",
       "      <td>1</td>\n",
       "      <td>12.270430</td>\n",
       "    </tr>\n",
       "    <tr>\n",
       "      <th>209</th>\n",
       "      <td>1243.602481</td>\n",
       "      <td>0.108035</td>\n",
       "      <td>1</td>\n",
       "      <td>-26.729570</td>\n",
       "    </tr>\n",
       "    <tr>\n",
       "      <th>210</th>\n",
       "      <td>-6887.006228</td>\n",
       "      <td>-6.381377</td>\n",
       "      <td>0</td>\n",
       "      <td>-19.729570</td>\n",
       "    </tr>\n",
       "    <tr>\n",
       "      <th>211</th>\n",
       "      <td>-7065.137258</td>\n",
       "      <td>-3.021377</td>\n",
       "      <td>0</td>\n",
       "      <td>2.270430</td>\n",
       "    </tr>\n",
       "    <tr>\n",
       "      <th>212</th>\n",
       "      <td>-7176.591705</td>\n",
       "      <td>-1.621377</td>\n",
       "      <td>0</td>\n",
       "      <td>8.070433</td>\n",
       "    </tr>\n",
       "  </tbody>\n",
       "</table>\n",
       "<p>208 rows × 4 columns</p>\n",
       "</div>"
      ],
      "text/plain": [
       "           income   alcohol  life  employment\n",
       "0     1243.602481 -6.551377     0   -3.029569\n",
       "1    -5582.367044  0.708623     1   -7.329569\n",
       "2    -5265.370260 -5.891377     1   -8.229570\n",
       "3    14445.976302  3.588623     0   -0.093615\n",
       "4    -6116.359327 -1.011377     0   16.970427\n",
       "..            ...       ...   ...         ...\n",
       "208  -6774.556036 -2.671377     1   12.270430\n",
       "209   1243.602481  0.108035     1  -26.729570\n",
       "210  -6887.006228 -6.381377     0  -19.729570\n",
       "211  -7065.137258 -3.021377     0    2.270430\n",
       "212  -7176.591705 -1.621377     0    8.070433\n",
       "\n",
       "[208 rows x 4 columns]"
      ]
     },
     "execution_count": 72,
     "metadata": {},
     "output_type": "execute_result"
    }
   ],
   "source": [
    "data3"
   ]
  },
  {
   "cell_type": "markdown",
   "metadata": {},
   "source": [
    "## Final model"
   ]
  },
  {
   "cell_type": "code",
   "execution_count": 73,
   "metadata": {
    "scrolled": true
   },
   "outputs": [
    {
     "name": "stdout",
     "output_type": "stream",
     "text": [
      "Optimization terminated successfully.\n",
      "         Current function value: 0.637435\n",
      "         Iterations 5\n"
     ]
    }
   ],
   "source": [
    "model = sp.logit(\"life ~ employment\",data=data3).fit()"
   ]
  },
  {
   "cell_type": "code",
   "execution_count": 75,
   "metadata": {},
   "outputs": [
    {
     "name": "stdout",
     "output_type": "stream",
     "text": [
      "                           Logit Regression Results                           \n",
      "==============================================================================\n",
      "Dep. Variable:                   life   No. Observations:                  208\n",
      "Model:                          Logit   Df Residuals:                      206\n",
      "Method:                           MLE   Df Model:                            1\n",
      "Date:                Tue, 28 Jul 2020   Pseudo R-squ.:                 0.07419\n",
      "Time:                        23:55:27   Log-Likelihood:                -132.59\n",
      "converged:                       True   LL-Null:                       -143.21\n",
      "Covariance Type:            nonrobust   LLR p-value:                 4.030e-06\n",
      "==============================================================================\n",
      "                 coef    std err          z      P>|z|      [0.025      0.975]\n",
      "------------------------------------------------------------------------------\n",
      "Intercept      0.2105      0.147      1.434      0.152      -0.077       0.498\n",
      "employment    -0.0726      0.017     -4.234      0.000      -0.106      -0.039\n",
      "==============================================================================\n"
     ]
    }
   ],
   "source": [
    "print(model.summary())"
   ]
  },
  {
   "cell_type": "markdown",
   "metadata": {},
   "source": [
    "P value very high model insignificant"
   ]
  },
  {
   "cell_type": "code",
   "execution_count": 76,
   "metadata": {},
   "outputs": [
    {
     "name": "stdout",
     "output_type": "stream",
     "text": [
      "Optimization terminated successfully.\n",
      "         Current function value: 0.601963\n",
      "         Iterations 5\n"
     ]
    }
   ],
   "source": [
    "model = sp.logit(\"life ~ employment+alcohol\",data=data3).fit()"
   ]
  },
  {
   "cell_type": "code",
   "execution_count": 77,
   "metadata": {},
   "outputs": [
    {
     "name": "stdout",
     "output_type": "stream",
     "text": [
      "                           Logit Regression Results                           \n",
      "==============================================================================\n",
      "Dep. Variable:                   life   No. Observations:                  208\n",
      "Model:                          Logit   Df Residuals:                      205\n",
      "Method:                           MLE   Df Model:                            2\n",
      "Date:                Tue, 28 Jul 2020   Pseudo R-squ.:                  0.1257\n",
      "Time:                        23:56:46   Log-Likelihood:                -125.21\n",
      "converged:                       True   LL-Null:                       -143.21\n",
      "Covariance Type:            nonrobust   LLR p-value:                 1.518e-08\n",
      "==============================================================================\n",
      "                 coef    std err          z      P>|z|      [0.025      0.975]\n",
      "------------------------------------------------------------------------------\n",
      "Intercept      0.2337      0.153      1.527      0.127      -0.066       0.534\n",
      "employment    -0.0701      0.017     -4.059      0.000      -0.104      -0.036\n",
      "alcohol        0.1363      0.038      3.631      0.000       0.063       0.210\n",
      "==============================================================================\n"
     ]
    }
   ],
   "source": [
    "print(model.summary())"
   ]
  },
  {
   "cell_type": "markdown",
   "metadata": {},
   "source": [
    "employment coefecient changed so alcohol is a confounding variable but p value is still pretty high so insignificant"
   ]
  },
  {
   "cell_type": "code",
   "execution_count": 78,
   "metadata": {},
   "outputs": [
    {
     "name": "stdout",
     "output_type": "stream",
     "text": [
      "Optimization terminated successfully.\n",
      "         Current function value: 0.520708\n",
      "         Iterations 6\n"
     ]
    }
   ],
   "source": [
    "model = sp.logit(\"life ~ employment+alcohol+income\",data=data3).fit()"
   ]
  },
  {
   "cell_type": "code",
   "execution_count": 79,
   "metadata": {
    "scrolled": true
   },
   "outputs": [
    {
     "name": "stdout",
     "output_type": "stream",
     "text": [
      "                           Logit Regression Results                           \n",
      "==============================================================================\n",
      "Dep. Variable:                   life   No. Observations:                  208\n",
      "Model:                          Logit   Df Residuals:                      204\n",
      "Method:                           MLE   Df Model:                            3\n",
      "Date:                Tue, 28 Jul 2020   Pseudo R-squ.:                  0.2437\n",
      "Time:                        23:58:17   Log-Likelihood:                -108.31\n",
      "converged:                       True   LL-Null:                       -143.21\n",
      "Covariance Type:            nonrobust   LLR p-value:                 4.690e-15\n",
      "==============================================================================\n",
      "                 coef    std err          z      P>|z|      [0.025      0.975]\n",
      "------------------------------------------------------------------------------\n",
      "Intercept      0.3611      0.182      1.988      0.047       0.005       0.717\n",
      "employment    -0.0756      0.019     -3.948      0.000      -0.113      -0.038\n",
      "alcohol        0.0814      0.039      2.088      0.037       0.005       0.158\n",
      "income         0.0001   2.95e-05      4.420      0.000    7.26e-05       0.000\n",
      "==============================================================================\n"
     ]
    }
   ],
   "source": [
    "print(model.summary())"
   ]
  },
  {
   "cell_type": "markdown",
   "metadata": {},
   "source": [
    "P value is low so this model is significant "
   ]
  },
  {
   "cell_type": "code",
   "execution_count": 80,
   "metadata": {},
   "outputs": [
    {
     "name": "stdout",
     "output_type": "stream",
     "text": [
      "Intercept     1.434905\n",
      "employment    0.927216\n",
      "alcohol       1.084763\n",
      "income        1.000130\n",
      "dtype: float64\n"
     ]
    }
   ],
   "source": [
    "print(np.exp(model.params))"
   ]
  },
  {
   "cell_type": "markdown",
   "metadata": {},
   "source": [
    "# Summary"
   ]
  },
  {
   "cell_type": "markdown",
   "metadata": {},
   "source": [
    "including all variable helped make the model significant odd ratios can be seen in the above step p value is less than 0.5 . here we are getting the probablity of age being greater than 70 and according to the model increases alcohol is the best way to increase the odds although it does sound a bit hypocritical but the data shows this"
   ]
  }
 ],
 "metadata": {
  "kernelspec": {
   "display_name": "Python 3",
   "language": "python",
   "name": "python3"
  },
  "language_info": {
   "codemirror_mode": {
    "name": "ipython",
    "version": 3
   },
   "file_extension": ".py",
   "mimetype": "text/x-python",
   "name": "python",
   "nbconvert_exporter": "python",
   "pygments_lexer": "ipython3",
   "version": "3.7.6"
  }
 },
 "nbformat": 4,
 "nbformat_minor": 4
}
