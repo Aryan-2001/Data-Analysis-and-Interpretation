{
 "cells": [
  {
   "cell_type": "markdown",
   "metadata": {},
   "source": [
    "# About gapminder dataset"
   ]
  },
  {
   "cell_type": "markdown",
   "metadata": {},
   "source": [
    "Founded in Stockholm by Ola Rosling, Anna Rosling Rönnlund and Hans Rosling, GapMinder is a non-profit venture promoting sustainable global development and  achievement of the United Nations Millennium Development Goals. It seeks to  increase the use and understanding of statistics about social, economic, and\n",
    "environmental development at local, national, and global levels.  Since its conception in 2005, Gapminder has grown to include over 200 indicators, including gross domestic product, total employment rate, and estimated HIV prevalence. Gapminder contains data for all 192 UN members, aggregating data for Serbia and Montenegro. Additionally, it includes data for 24 other areas, generating a total of 215 areas. GapMinder collects data from a handful of sources, including the Institute for Health  Metrics and Evaulation, US Census Bureau’s International Database, United Nations  Statistics Division, and the World Bank."
   ]
  },
  {
   "cell_type": "markdown",
   "metadata": {},
   "source": [
    "Variable Name & Description of Indicator:\n",
    "1. incomeperperson\n",
    "\n",
    "The variable is for 2010 Gross Domestic Product per capita in constant 2000 US$. The inflation but not the differences in the cost of living between countries has been taken into account.\n",
    "\n",
    "2. alcconsumption\n",
    "\n",
    "It represents 2008 alcohol consumption per adult (age 15+), litres Recorded and estimated average alcohol consumption, adult (15+) per capita consumption in litres pure alcohol\n",
    "\n",
    "3. armedforcesrate\n",
    "\n",
    "This variable is about Armed forces personnel (% of total labor force)\n",
    "\n",
    "4. breastcancerper100TH\n",
    "\n",
    "It does represent 2002 breast cancer new cases per 100,000 female Number of new cases of breast cancer in 100,000 female residents during the certain year.\n",
    "\n",
    "5. co2emissions\n",
    "\n",
    "It is 2006 cumulative CO2 emission (metric tons), Total amount of CO2 emission in metric tons since 1751.\n",
    "\n",
    "6. femaleemployrate\n",
    "\n",
    "2007 female employees age 15+ (% of population) Percentage of female population, age above 15, that has been\n",
    "employed during the given year.\n",
    "\n",
    "7. employrate\n",
    "\n",
    "This is for 2007 total employees age 15+ (% of population) Percentage of total population, age above 15, that has been employed during the given year.\n",
    "\n",
    "8. HIVrate\n",
    "\n",
    "It is 2009 estimated HIV Prevalence % – (Ages 15-49) Estimated number of people living with HIV per 100 population of age group 15-49.\n",
    "\n",
    "9. Internetuserate\n",
    "\n",
    "This variable for 2010 Internet users (per 100 people) Internet users are people with access to the worldwide network.\n",
    "\n",
    "10. lifeexpectancy\n",
    "\n",
    "This variable for 2011 life expectancy at birth (years) The average number of years a newborn child would live if current mortality patterns were to stay the same.\n",
    "\n",
    "11. oilperperson\n",
    "\n",
    "It represents in 2010 what was the oil Consumption per capita (tonnes per year and person)\n",
    "\n",
    "12. polityscore\n",
    "\n",
    "2009 Democracy score (Polity) Overall polity score from the Polity IV dataset, calculated by subtracting an autocracy score from a democracy score. The summary measure of a country’s democratic and free nature. -10 is the lowest\n",
    "value, 10 the highest.\n",
    "\n",
    "13. relectricperperson\n",
    "\n",
    "This is about in 2008 residential electricity consumption, per person (kWh) The amount of residential electricity consumption per person during the given year, counted in kilowatt-hours (kWh).\n",
    "\n",
    "14. suicideper100TH\n",
    "\n",
    "It represents 2005 Suicide, age adjusted, per 100 000 Mortality due to self-inflicted injury, per 100 000 standard population, age adjusted\n",
    "\n",
    "15. urbanrate\n",
    "\n",
    "2008 urban population (% of total) Urban population refers to people living in urban areas as defined by\n",
    "national statistical offices (calculated using World Bank population estimates and urban ratios from the United Nations World Urbanization Prospects)\n",
    "\n",
    "\n"
   ]
  }
 ],
 "metadata": {
  "kernelspec": {
   "display_name": "Python 3",
   "language": "python",
   "name": "python3"
  },
  "language_info": {
   "codemirror_mode": {
    "name": "ipython",
    "version": 3
   },
   "file_extension": ".py",
   "mimetype": "text/x-python",
   "name": "python",
   "nbconvert_exporter": "python",
   "pygments_lexer": "ipython3",
   "version": "3.7.6"
  }
 },
 "nbformat": 4,
 "nbformat_minor": 4
}
