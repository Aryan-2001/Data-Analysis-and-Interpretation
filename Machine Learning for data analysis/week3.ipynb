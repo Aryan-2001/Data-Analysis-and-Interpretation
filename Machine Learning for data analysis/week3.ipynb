{
 "cells": [
  {
   "cell_type": "markdown",
   "metadata": {},
   "source": [
    "# WEEK 3"
   ]
  },
  {
   "cell_type": "markdown",
   "metadata": {},
   "source": [
    "# LASSO REGRESSION ON GAPMINDER"
   ]
  },
  {
   "cell_type": "markdown",
   "metadata": {},
   "source": [
    "## IMPORTING LIBRARIES"
   ]
  },
  {
   "cell_type": "code",
   "execution_count": 23,
   "metadata": {},
   "outputs": [],
   "source": [
    "import numpy as np\n",
    "import pandas as pd\n",
    "import sklearn.metrics as sk\n",
    "from sklearn.model_selection import train_test_split \n",
    "from sklearn.linear_model import LassoLarsCV\n",
    "import matplotlib.pyplot as plt"
   ]
  },
  {
   "cell_type": "markdown",
   "metadata": {},
   "source": [
    "## IMPORTING DATASETS"
   ]
  },
  {
   "cell_type": "code",
   "execution_count": 4,
   "metadata": {},
   "outputs": [],
   "source": [
    "data = pd.read_csv(\"gapminder.csv\")\n",
    "\n",
    "data1 = data.iloc[:,[0,1,2,9,14]].copy()\n",
    "\n",
    "data1.head()\n",
    "\n",
    "data1.columns = [\"country\",\"income\",\"alcohol\",\"life\",\"employment\"]"
   ]
  },
  {
   "cell_type": "markdown",
   "metadata": {},
   "source": [
    "## Data Management"
   ]
  },
  {
   "cell_type": "code",
   "execution_count": 5,
   "metadata": {},
   "outputs": [
    {
     "data": {
      "text/plain": [
       "5"
      ]
     },
     "execution_count": 5,
     "metadata": {},
     "output_type": "execute_result"
    }
   ],
   "source": [
    "data1  = data1.iloc[:,1:]\n",
    "\n",
    "def fun1(a):\n",
    "    \n",
    "    for i in range(len(a)):\n",
    "        if a[i]==\" \":\n",
    "            a[i] = np.nan\n",
    "        else :\n",
    "            a[i] = float(a[i])\n",
    "            \n",
    "            \n",
    "    x = np.mean(a.dropna())\n",
    "    \n",
    "    for i in range(len(a)):\n",
    "        if np.isnan(a[i]):\n",
    "            a[i] = x\n",
    "            \n",
    "\n",
    "for i in data1.columns :\n",
    "    fun1(data1[i])\n",
    "\n",
    "data1.head()\n",
    "\n",
    "## Removing Outliers \n",
    "\n",
    "data2 = data1.copy()\n",
    "\n",
    "def fun2(a):\n",
    "    mean = np.mean(a)\n",
    "    std = np.std(a)\n",
    "    \n",
    "    mx = mean+3*std\n",
    "    mn = mean-3*std\n",
    "    \n",
    "    for i in range(len(a)):\n",
    "        \n",
    "        if (a[i]>mx)|(a[i]<mn):\n",
    "            a[i]=np.nan\n",
    "            \n",
    "    \n",
    "    \n",
    "\n",
    "for i in data2.columns:\n",
    "    fun2(data2[i])\n",
    "\n",
    "l1 =  len(data2)\n",
    "\n",
    "data2 = data2.dropna()\n",
    "\n",
    "l1 - len(data2)"
   ]
  },
  {
   "cell_type": "markdown",
   "metadata": {},
   "source": [
    "5 rows removed as Outliers "
   ]
  },
  {
   "cell_type": "markdown",
   "metadata": {},
   "source": [
    "## PREPROCESSING"
   ]
  },
  {
   "cell_type": "code",
   "execution_count": 6,
   "metadata": {},
   "outputs": [],
   "source": [
    "from sklearn import preprocessing"
   ]
  },
  {
   "cell_type": "code",
   "execution_count": 7,
   "metadata": {},
   "outputs": [],
   "source": [
    "data2[\"income\"] = preprocessing.scale(data2[\"income\"].astype(\"float64\"))"
   ]
  },
  {
   "cell_type": "code",
   "execution_count": 8,
   "metadata": {},
   "outputs": [],
   "source": [
    "data2[\"alcohol\"] = preprocessing.scale(data2[\"alcohol\"].astype(\"float64\"))"
   ]
  },
  {
   "cell_type": "code",
   "execution_count": 9,
   "metadata": {},
   "outputs": [],
   "source": [
    "data2[\"employment\"] = preprocessing.scale(data2[\"employment\"].astype(\"float64\"))"
   ]
  },
  {
   "cell_type": "markdown",
   "metadata": {},
   "source": [
    "## MODELING"
   ]
  },
  {
   "cell_type": "code",
   "execution_count": 10,
   "metadata": {},
   "outputs": [
    {
     "data": {
      "text/html": [
       "<div>\n",
       "<style scoped>\n",
       "    .dataframe tbody tr th:only-of-type {\n",
       "        vertical-align: middle;\n",
       "    }\n",
       "\n",
       "    .dataframe tbody tr th {\n",
       "        vertical-align: top;\n",
       "    }\n",
       "\n",
       "    .dataframe thead th {\n",
       "        text-align: right;\n",
       "    }\n",
       "</style>\n",
       "<table border=\"1\" class=\"dataframe\">\n",
       "  <thead>\n",
       "    <tr style=\"text-align: right;\">\n",
       "      <th></th>\n",
       "      <th>income</th>\n",
       "      <th>alcohol</th>\n",
       "      <th>life</th>\n",
       "      <th>employment</th>\n",
       "    </tr>\n",
       "  </thead>\n",
       "  <tbody>\n",
       "    <tr>\n",
       "      <th>0</th>\n",
       "      <td>0.131357</td>\n",
       "      <td>-1.465189</td>\n",
       "      <td>48.673</td>\n",
       "      <td>-0.314079</td>\n",
       "    </tr>\n",
       "    <tr>\n",
       "      <th>1</th>\n",
       "      <td>-0.589645</td>\n",
       "      <td>0.158481</td>\n",
       "      <td>76.918</td>\n",
       "      <td>-0.759866</td>\n",
       "    </tr>\n",
       "    <tr>\n",
       "      <th>2</th>\n",
       "      <td>-0.556162</td>\n",
       "      <td>-1.317583</td>\n",
       "      <td>73.131</td>\n",
       "      <td>-0.853170</td>\n",
       "    </tr>\n",
       "    <tr>\n",
       "      <th>3</th>\n",
       "      <td>1.525876</td>\n",
       "      <td>0.802581</td>\n",
       "      <td>69.7535</td>\n",
       "      <td>-0.009705</td>\n",
       "    </tr>\n",
       "    <tr>\n",
       "      <th>4</th>\n",
       "      <td>-0.646049</td>\n",
       "      <td>-0.226190</td>\n",
       "      <td>51.093</td>\n",
       "      <td>1.759346</td>\n",
       "    </tr>\n",
       "  </tbody>\n",
       "</table>\n",
       "</div>"
      ],
      "text/plain": [
       "     income   alcohol     life  employment\n",
       "0  0.131357 -1.465189   48.673   -0.314079\n",
       "1 -0.589645  0.158481   76.918   -0.759866\n",
       "2 -0.556162 -1.317583   73.131   -0.853170\n",
       "3  1.525876  0.802581  69.7535   -0.009705\n",
       "4 -0.646049 -0.226190   51.093    1.759346"
      ]
     },
     "execution_count": 10,
     "metadata": {},
     "output_type": "execute_result"
    }
   ],
   "source": [
    "data2.head()"
   ]
  },
  {
   "cell_type": "code",
   "execution_count": 11,
   "metadata": {},
   "outputs": [],
   "source": [
    "x = data2.iloc[:,[0,1,3]]"
   ]
  },
  {
   "cell_type": "code",
   "execution_count": 12,
   "metadata": {},
   "outputs": [],
   "source": [
    "y = data2[\"life\"]"
   ]
  },
  {
   "cell_type": "code",
   "execution_count": 13,
   "metadata": {},
   "outputs": [],
   "source": [
    "x_train,x_test,y_train,y_test = train_test_split(x,y)"
   ]
  },
  {
   "cell_type": "code",
   "execution_count": 14,
   "metadata": {},
   "outputs": [],
   "source": [
    "model=LassoLarsCV(cv=10, precompute=False).fit(x_train,y_train)"
   ]
  },
  {
   "cell_type": "code",
   "execution_count": 27,
   "metadata": {},
   "outputs": [
    {
     "data": {
      "text/plain": [
       "array([ 4.97292961,  1.41362286, -3.13043029])"
      ]
     },
     "execution_count": 27,
     "metadata": {},
     "output_type": "execute_result"
    }
   ],
   "source": [
    "model.coef_\n"
   ]
  },
  {
   "cell_type": "markdown",
   "metadata": {},
   "source": [
    "## PLOTTING"
   ]
  },
  {
   "cell_type": "code",
   "execution_count": 26,
   "metadata": {},
   "outputs": [
    {
     "name": "stderr",
     "output_type": "stream",
     "text": [
      "C:\\Users\\Aryan\\anaconda3\\lib\\site-packages\\ipykernel_launcher.py:2: RuntimeWarning: divide by zero encountered in log10\n",
      "  \n",
      "C:\\Users\\Aryan\\anaconda3\\lib\\site-packages\\ipykernel_launcher.py:7: RuntimeWarning: divide by zero encountered in log10\n",
      "  import sys\n"
     ]
    },
    {
     "data": {
      "text/plain": [
       "Text(0.5, 1.0, 'Mean squared error on each fold')"
      ]
     },
     "execution_count": 26,
     "metadata": {},
     "output_type": "execute_result"
    },
    {
     "data": {
      "image/png": "[encoded data removed]",
      "text/plain": [
       "<Figure size 432x288 with 1 Axes>"
      ]
     },
     "metadata": {
      "needs_background": "light"
     },
     "output_type": "display_data"
    }
   ],
   "source": [
    "# plot mean square error for each fold\n",
    "m_log_alphascv = -np.log10(model.cv_alphas_)\n",
    "plt.figure()\n",
    "plt.plot(m_log_alphascv, model.mse_path_, ':')\n",
    "plt.plot(m_log_alphascv, model.mse_path_.mean(axis=-1), 'k',\n",
    "         label='Average across the folds', linewidth=2)\n",
    "plt.axvline(-np.log10(model.alpha_), linestyle='--', color='k',\n",
    "            label='alpha CV')\n",
    "plt.legend()\n",
    "plt.xlabel('-log(alpha)')\n",
    "plt.ylabel('Mean squared error')\n",
    "plt.title('Mean squared error on each fold')"
   ]
  }
 ],
 "metadata": {
  "kernelspec": {
   "display_name": "Python 3",
   "language": "python",
   "name": "python3"
  },
  "language_info": {
   "codemirror_mode": {
    "name": "ipython",
    "version": 3
   },
   "file_extension": ".py",
   "mimetype": "text/x-python",
   "name": "python",
   "nbconvert_exporter": "python",
   "pygments_lexer": "ipython3",
   "version": "3.7.6"
  }
 },
 "nbformat": 4,
 "nbformat_minor": 4
}
