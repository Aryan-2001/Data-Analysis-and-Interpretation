{
 "cells": [
  {
   "cell_type": "markdown",
   "metadata": {},
   "source": [
    "# WEEK2 "
   ]
  },
  {
   "cell_type": "markdown",
   "metadata": {},
   "source": [
    "## Random Forests on Gapminder dataset"
   ]
  },
  {
   "cell_type": "markdown",
   "metadata": {},
   "source": [
    "### IMPORTING LIBRARIES"
   ]
  },
  {
   "cell_type": "code",
   "execution_count": 2,
   "metadata": {},
   "outputs": [],
   "source": [
    "import numpy as np\n",
    "import pandas as pd\n",
    "import sklearn.metrics as sk\n",
    "from sklearn.model_selection import train_test_split \n",
    "from sklearn.ensemble import ExtraTreesClassifier\n",
    "from sklearn.ensemble import RandomForestClassifier"
   ]
  },
  {
   "cell_type": "markdown",
   "metadata": {},
   "source": [
    "### Importing Datesets"
   ]
  },
  {
   "cell_type": "code",
   "execution_count": 3,
   "metadata": {},
   "outputs": [],
   "source": [
    "data = pd.read_csv(\"gapminder.csv\")\n",
    "\n",
    "data1 = data.iloc[:,[0,1,2,9,14]].copy()\n",
    "\n",
    "data1.head()\n",
    "\n",
    "data1.columns = [\"country\",\"income\",\"alcohol\",\"life\",\"employment\"]"
   ]
  },
  {
   "cell_type": "markdown",
   "metadata": {},
   "source": [
    "### Data Management"
   ]
  },
  {
   "cell_type": "code",
   "execution_count": 4,
   "metadata": {},
   "outputs": [
    {
     "data": {
      "text/plain": [
       "5"
      ]
     },
     "execution_count": 4,
     "metadata": {},
     "output_type": "execute_result"
    }
   ],
   "source": [
    "data1  = data1.iloc[:,1:]\n",
    "\n",
    "def fun1(a):\n",
    "    \n",
    "    for i in range(len(a)):\n",
    "        if a[i]==\" \":\n",
    "            a[i] = np.nan\n",
    "        else :\n",
    "            a[i] = float(a[i])\n",
    "            \n",
    "            \n",
    "    x = np.mean(a.dropna())\n",
    "    \n",
    "    for i in range(len(a)):\n",
    "        if np.isnan(a[i]):\n",
    "            a[i] = x\n",
    "            \n",
    "\n",
    "for i in data1.columns :\n",
    "    fun1(data1[i])\n",
    "\n",
    "data1.head()\n",
    "\n",
    "## Removing Outliers \n",
    "\n",
    "data2 = data1.copy()\n",
    "\n",
    "def fun2(a):\n",
    "    mean = np.mean(a)\n",
    "    std = np.std(a)\n",
    "    \n",
    "    mx = mean+3*std\n",
    "    mn = mean-3*std\n",
    "    \n",
    "    for i in range(len(a)):\n",
    "        \n",
    "        if (a[i]>mx)|(a[i]<mn):\n",
    "            a[i]=np.nan\n",
    "            \n",
    "    \n",
    "    \n",
    "\n",
    "for i in data2.columns:\n",
    "    fun2(data2[i])\n",
    "\n",
    "l1 =  len(data2)\n",
    "\n",
    "data2 = data2.dropna()\n",
    "\n",
    "l1 - len(data2) "
   ]
  },
  {
   "cell_type": "markdown",
   "metadata": {},
   "source": [
    "5 outliers removed"
   ]
  },
  {
   "cell_type": "markdown",
   "metadata": {},
   "source": [
    "### Modeling "
   ]
  },
  {
   "cell_type": "code",
   "execution_count": 5,
   "metadata": {},
   "outputs": [],
   "source": [
    "def fun3(a):\n",
    "    if a<70:\n",
    "        return 0\n",
    "    else:\n",
    "        return 1\n",
    "\n",
    "\n",
    "    \n",
    "data2[\"life\"] = list(map(fun3,data2[\"life\"]))\n",
    "\n",
    "data2[\"income\"] = pd.to_numeric(data2[\"income\"])\n",
    "data2[\"alcohol\"] = pd.to_numeric(data2[\"alcohol\"])\n",
    "data2[\"employment\"] = pd.to_numeric(data2[\"employment\"])\n",
    "\n",
    "data2[\"life\"] = data2[\"life\"].astype(\"category\")\n",
    "\n",
    "data2[\"life\"].value_counts()\n",
    "\n",
    "tar = data2[\"life\"]\n",
    "exp = data2.iloc[:,[0,1,3]]\n",
    "\n",
    "x_train,x_test,y_train,y_test = train_test_split(exp,tar)"
   ]
  },
  {
   "cell_type": "code",
   "execution_count": 6,
   "metadata": {},
   "outputs": [],
   "source": [
    "model = RandomForestClassifier().fit(x_train,y_train)"
   ]
  },
  {
   "cell_type": "code",
   "execution_count": 7,
   "metadata": {},
   "outputs": [],
   "source": [
    "pred = model.predict(x_test)"
   ]
  },
  {
   "cell_type": "code",
   "execution_count": 8,
   "metadata": {},
   "outputs": [
    {
     "data": {
      "text/plain": [
       "array([[16, 12],\n",
       "       [ 3, 21]], dtype=int64)"
      ]
     },
     "execution_count": 8,
     "metadata": {},
     "output_type": "execute_result"
    }
   ],
   "source": [
    "sk.confusion_matrix(y_test,pred)"
   ]
  },
  {
   "cell_type": "code",
   "execution_count": 9,
   "metadata": {},
   "outputs": [
    {
     "data": {
      "text/plain": [
       "0.7115384615384616"
      ]
     },
     "execution_count": 9,
     "metadata": {},
     "output_type": "execute_result"
    }
   ],
   "source": [
    "sk.accuracy_score(y_test,pred)"
   ]
  },
  {
   "cell_type": "markdown",
   "metadata": {},
   "source": [
    "71 % accuracy"
   ]
  },
  {
   "cell_type": "markdown",
   "metadata": {},
   "source": [
    "# Plotting number of trees and accuracy"
   ]
  },
  {
   "cell_type": "code",
   "execution_count": 14,
   "metadata": {},
   "outputs": [],
   "source": [
    "ls_x = []\n",
    "ls_y = []\n",
    "for i in range(10,100,10):\n",
    "    model = RandomForestClassifier(n_estimators=i).fit(x_train,y_train)\n",
    "    pred = model.predict(x_test)\n",
    "    ls_x.append(i)\n",
    "    ls_y.append(sk.accuracy_score(y_test,pred))"
   ]
  },
  {
   "cell_type": "code",
   "execution_count": 17,
   "metadata": {},
   "outputs": [
    {
     "data": {
      "text/plain": [
       "[<matplotlib.lines.Line2D at 0x1e8a75257c8>]"
      ]
     },
     "execution_count": 17,
     "metadata": {},
     "output_type": "execute_result"
    },
    {
     "data": {
      "image/png": "[encoded data removed]",
      "text/plain": [
       "<Figure size 432x288 with 1 Axes>"
      ]
     },
     "metadata": {
      "needs_background": "light"
     },
     "output_type": "display_data"
    }
   ],
   "source": [
    "import matplotlib.pyplot as plt\n",
    "plt.plot(ls_x,ls_y,\"--r\")"
   ]
  },
  {
   "cell_type": "markdown",
   "metadata": {},
   "source": [
    "This actually shoes that when n = 70 has the best accuracy"
   ]
  },
  {
   "cell_type": "markdown",
   "metadata": {},
   "source": [
    "### Final model"
   ]
  },
  {
   "cell_type": "code",
   "execution_count": 19,
   "metadata": {},
   "outputs": [
    {
     "data": {
      "text/plain": [
       "0.75"
      ]
     },
     "execution_count": 19,
     "metadata": {},
     "output_type": "execute_result"
    }
   ],
   "source": [
    "model = RandomForestClassifier(n_estimators=70).fit(x_train,y_train)\n",
    "pred = model.predict(x_test)\n",
    "sk.accuracy_score(y_test,pred)"
   ]
  },
  {
   "cell_type": "markdown",
   "metadata": {},
   "source": [
    "75% is the max accuray we can get usinf random forests"
   ]
  }
 ],
 "metadata": {
  "kernelspec": {
   "display_name": "Python 3",
   "language": "python",
   "name": "python3"
  },
  "language_info": {
   "codemirror_mode": {
    "name": "ipython",
    "version": 3
   },
   "file_extension": ".py",
   "mimetype": "text/x-python",
   "name": "python",
   "nbconvert_exporter": "python",
   "pygments_lexer": "ipython3",
   "version": "3.7.6"
  }
 },
 "nbformat": 4,
 "nbformat_minor": 4
}
