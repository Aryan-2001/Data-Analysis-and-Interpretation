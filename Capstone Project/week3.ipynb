{
 "cells": [
  {
   "cell_type": "markdown",
   "metadata": {},
   "source": [
    "# EXPLORATORY DATA ANALYSIS"
   ]
  },
  {
   "cell_type": "markdown",
   "metadata": {},
   "source": [
    "### Importing libraries"
   ]
  },
  {
   "cell_type": "code",
   "execution_count": 2,
   "metadata": {},
   "outputs": [],
   "source": [
    "import numpy as np\n",
    "import pandas as pd\n",
    "import matplotlib.pyplot as plt\n",
    "import seaborn as sns"
   ]
  },
  {
   "cell_type": "markdown",
   "metadata": {},
   "source": [
    "### Imprting Data"
   ]
  },
  {
   "cell_type": "code",
   "execution_count": 3,
   "metadata": {},
   "outputs": [],
   "source": [
    "train_values = pd.read_csv(\"train_values.csv\")\n",
    "train_labels = pd.read_csv(\"train_labels.csv\")\n",
    "data = pd.merge(train_values,train_labels,right_on = \"building_id\" , left_on = \"building_id\" )"
   ]
  },
  {
   "cell_type": "markdown",
   "metadata": {},
   "source": [
    "### Data Management "
   ]
  },
  {
   "cell_type": "code",
   "execution_count": 4,
   "metadata": {},
   "outputs": [
    {
     "name": "stdout",
     "output_type": "stream",
     "text": [
      "       id  g1   g2     g3  floors  age  area  height surface foundation roof  \\\n",
      "0  802906   6  487  12198       2   30     6       5       t          r    n   \n",
      "1   28830   8  900   2812       2   10     8       7       o          r    n   \n",
      "2   94947  21  363   8973       2   10     5       5       t          r    n   \n",
      "3  590882  22  418  10694       2   10     6       5       t          r    n   \n",
      "4  201944  11  131   1488       3   30     8       9       t          r    n   \n",
      "\n",
      "  position  damage  \n",
      "0        t       3  \n",
      "1        s       2  \n",
      "2        t       3  \n",
      "3        s       2  \n",
      "4        s       3  \n"
     ]
    }
   ],
   "source": [
    "data1 = data.iloc[:,0:15].copy()\n",
    "data1[\"damage\"] = data[\"damage_grade\"].copy()\n",
    "\n",
    "\n",
    "data1 = data1.drop(\"other_floor_type\" ,axis = 1).copy()\n",
    "\n",
    "data1 = data1.drop(\"plan_configuration\",axis = 1).copy()\n",
    "data1 = data1.drop(\"ground_floor_type\" , axis = 1).copy()\n",
    "\n",
    "data1.columns = [\"id\" ,\"g1\" ,\"g2\", \"g3\" ,\"floors\" ,\"age\" ,\"area\" ,\"height\" ,\"surface\" ,\"foundation\" ,\"roof\" ,\"position\",\"damage\"]\n",
    "print(data1.head())"
   ]
  },
  {
   "cell_type": "markdown",
   "metadata": {},
   "source": [
    "### Exploratory Analysis - "
   ]
  },
  {
   "cell_type": "markdown",
   "metadata": {},
   "source": [
    "### Univariate analysis "
   ]
  },
  {
   "cell_type": "code",
   "execution_count": 5,
   "metadata": {},
   "outputs": [
    {
     "data": {
      "text/plain": [
       "2    156623\n",
       "3     55617\n",
       "1     40441\n",
       "4      5424\n",
       "5      2246\n",
       "6       209\n",
       "7        39\n",
       "9         1\n",
       "8         1\n",
       "Name: floors, dtype: int64"
      ]
     },
     "execution_count": 5,
     "metadata": {},
     "output_type": "execute_result"
    }
   ],
   "source": [
    "data1[\"floors\"].value_counts(sort = True)"
   ]
  },
  {
   "cell_type": "code",
   "execution_count": 6,
   "metadata": {},
   "outputs": [
    {
     "data": {
      "text/plain": [
       "(array([4.04410e+04, 1.56623e+05, 5.56170e+04, 5.42400e+03, 0.00000e+00,\n",
       "        2.24600e+03, 2.09000e+02, 3.90000e+01, 1.00000e+00, 1.00000e+00]),\n",
       " array([1. , 1.8, 2.6, 3.4, 4.2, 5. , 5.8, 6.6, 7.4, 8.2, 9. ]),\n",
       " <a list of 10 Patch objects>)"
      ]
     },
     "execution_count": 6,
     "metadata": {},
     "output_type": "execute_result"
    },
    {
     "data": {
      "image/png": "[encoded data removed]",
      "text/plain": [
       "<Figure size 432x288 with 1 Axes>"
      ]
     },
     "metadata": {
      "needs_background": "light"
     },
     "output_type": "display_data"
    }
   ],
   "source": [
    "plt.hist(data1[\"floors\"] , bins = 10,rwidth = 0.25)"
   ]
  },
  {
   "cell_type": "markdown",
   "metadata": {},
   "source": [
    "as you can see for 8-9 floors there are no observations so removing them as outliers should be correct "
   ]
  },
  {
   "cell_type": "code",
   "execution_count": 7,
   "metadata": {},
   "outputs": [
    {
     "data": {
      "text/plain": [
       "995"
      ]
     },
     "execution_count": 7,
     "metadata": {},
     "output_type": "execute_result"
    },
    {
     "data": {
      "image/png": "[encoded data removed]",
      "text/plain": [
       "<Figure size 432x288 with 1 Axes>"
      ]
     },
     "metadata": {
      "needs_background": "light"
     },
     "output_type": "display_data"
    }
   ],
   "source": [
    "data1[\"age\"].value_counts()\n",
    "sns.boxplot(data1[\"age\"])\n",
    "max(data1[\"age\"])"
   ]
  },
  {
   "cell_type": "markdown",
   "metadata": {},
   "source": [
    "same in this case removing age above 140 can be done as you can see one outlier is present"
   ]
  },
  {
   "cell_type": "code",
   "execution_count": 8,
   "metadata": {},
   "outputs": [
    {
     "data": {
      "text/plain": [
       "100"
      ]
     },
     "execution_count": 8,
     "metadata": {},
     "output_type": "execute_result"
    },
    {
     "data": {
      "image/png": "[encoded data removed]",
      "text/plain": [
       "<Figure size 432x288 with 1 Axes>"
      ]
     },
     "metadata": {
      "needs_background": "light"
     },
     "output_type": "display_data"
    }
   ],
   "source": [
    "data1[\"area\"].value_counts()\n",
    "sns.boxplot(data1[\"area\"])\n",
    "max(data1[\"area\"])"
   ]
  },
  {
   "cell_type": "code",
   "execution_count": 9,
   "metadata": {},
   "outputs": [
    {
     "data": {
      "text/plain": [
       "2    148259\n",
       "3     87218\n",
       "1     25124\n",
       "Name: damage, dtype: int64"
      ]
     },
     "execution_count": 9,
     "metadata": {},
     "output_type": "execute_result"
    }
   ],
   "source": [
    "data1[\"damage\"].value_counts()"
   ]
  },
  {
   "cell_type": "code",
   "execution_count": 29,
   "metadata": {},
   "outputs": [
    {
     "data": {
      "text/plain": [
       "t    215257\n",
       "n     35372\n",
       "o      8296\n",
       "Name: surface, dtype: int64"
      ]
     },
     "execution_count": 29,
     "metadata": {},
     "output_type": "execute_result"
    }
   ],
   "source": [
    "data1[\"surface\"].value_counts()"
   ]
  },
  {
   "cell_type": "markdown",
   "metadata": {},
   "source": [
    "### Removing Outliers"
   ]
  },
  {
   "cell_type": "code",
   "execution_count": 11,
   "metadata": {},
   "outputs": [],
   "source": [
    "data1 = data1[(data1[\"age\"]<=140)&(data1[\"floors\"]<=7)].copy()"
   ]
  },
  {
   "cell_type": "markdown",
   "metadata": {},
   "source": [
    "### Bivariate Analysis"
   ]
  },
  {
   "cell_type": "code",
   "execution_count": 12,
   "metadata": {},
   "outputs": [
    {
     "data": {
      "text/html": [
       "<div>\n",
       "<style scoped>\n",
       "    .dataframe tbody tr th:only-of-type {\n",
       "        vertical-align: middle;\n",
       "    }\n",
       "\n",
       "    .dataframe tbody tr th {\n",
       "        vertical-align: top;\n",
       "    }\n",
       "\n",
       "    .dataframe thead th {\n",
       "        text-align: right;\n",
       "    }\n",
       "</style>\n",
       "<table border=\"1\" class=\"dataframe\">\n",
       "  <thead>\n",
       "    <tr style=\"text-align: right;\">\n",
       "      <th></th>\n",
       "      <th>id</th>\n",
       "      <th>g1</th>\n",
       "      <th>g2</th>\n",
       "      <th>g3</th>\n",
       "      <th>floors</th>\n",
       "      <th>age</th>\n",
       "      <th>area</th>\n",
       "      <th>height</th>\n",
       "      <th>surface</th>\n",
       "      <th>foundation</th>\n",
       "      <th>roof</th>\n",
       "      <th>position</th>\n",
       "      <th>damage</th>\n",
       "    </tr>\n",
       "  </thead>\n",
       "  <tbody>\n",
       "    <tr>\n",
       "      <th>0</th>\n",
       "      <td>802906</td>\n",
       "      <td>6</td>\n",
       "      <td>487</td>\n",
       "      <td>12198</td>\n",
       "      <td>2</td>\n",
       "      <td>30</td>\n",
       "      <td>6</td>\n",
       "      <td>5</td>\n",
       "      <td>t</td>\n",
       "      <td>r</td>\n",
       "      <td>n</td>\n",
       "      <td>t</td>\n",
       "      <td>3</td>\n",
       "    </tr>\n",
       "    <tr>\n",
       "      <th>1</th>\n",
       "      <td>28830</td>\n",
       "      <td>8</td>\n",
       "      <td>900</td>\n",
       "      <td>2812</td>\n",
       "      <td>2</td>\n",
       "      <td>10</td>\n",
       "      <td>8</td>\n",
       "      <td>7</td>\n",
       "      <td>o</td>\n",
       "      <td>r</td>\n",
       "      <td>n</td>\n",
       "      <td>s</td>\n",
       "      <td>2</td>\n",
       "    </tr>\n",
       "    <tr>\n",
       "      <th>2</th>\n",
       "      <td>94947</td>\n",
       "      <td>21</td>\n",
       "      <td>363</td>\n",
       "      <td>8973</td>\n",
       "      <td>2</td>\n",
       "      <td>10</td>\n",
       "      <td>5</td>\n",
       "      <td>5</td>\n",
       "      <td>t</td>\n",
       "      <td>r</td>\n",
       "      <td>n</td>\n",
       "      <td>t</td>\n",
       "      <td>3</td>\n",
       "    </tr>\n",
       "    <tr>\n",
       "      <th>3</th>\n",
       "      <td>590882</td>\n",
       "      <td>22</td>\n",
       "      <td>418</td>\n",
       "      <td>10694</td>\n",
       "      <td>2</td>\n",
       "      <td>10</td>\n",
       "      <td>6</td>\n",
       "      <td>5</td>\n",
       "      <td>t</td>\n",
       "      <td>r</td>\n",
       "      <td>n</td>\n",
       "      <td>s</td>\n",
       "      <td>2</td>\n",
       "    </tr>\n",
       "    <tr>\n",
       "      <th>4</th>\n",
       "      <td>201944</td>\n",
       "      <td>11</td>\n",
       "      <td>131</td>\n",
       "      <td>1488</td>\n",
       "      <td>3</td>\n",
       "      <td>30</td>\n",
       "      <td>8</td>\n",
       "      <td>9</td>\n",
       "      <td>t</td>\n",
       "      <td>r</td>\n",
       "      <td>n</td>\n",
       "      <td>s</td>\n",
       "      <td>3</td>\n",
       "    </tr>\n",
       "  </tbody>\n",
       "</table>\n",
       "</div>"
      ],
      "text/plain": [
       "       id  g1   g2     g3  floors  age  area  height surface foundation roof  \\\n",
       "0  802906   6  487  12198       2   30     6       5       t          r    n   \n",
       "1   28830   8  900   2812       2   10     8       7       o          r    n   \n",
       "2   94947  21  363   8973       2   10     5       5       t          r    n   \n",
       "3  590882  22  418  10694       2   10     6       5       t          r    n   \n",
       "4  201944  11  131   1488       3   30     8       9       t          r    n   \n",
       "\n",
       "  position  damage  \n",
       "0        t       3  \n",
       "1        s       2  \n",
       "2        t       3  \n",
       "3        s       2  \n",
       "4        s       3  "
      ]
     },
     "execution_count": 12,
     "metadata": {},
     "output_type": "execute_result"
    }
   ],
   "source": [
    "data1.head()"
   ]
  },
  {
   "cell_type": "code",
   "execution_count": 13,
   "metadata": {},
   "outputs": [
    {
     "data": {
      "text/plain": [
       "[<matplotlib.lines.Line2D at 0x17ac1e88a08>]"
      ]
     },
     "execution_count": 13,
     "metadata": {},
     "output_type": "execute_result"
    },
    {
     "data": {
      "image/png": "[encoded data removed]",
      "text/plain": [
       "<Figure size 432x288 with 1 Axes>"
      ]
     },
     "metadata": {
      "needs_background": "light"
     },
     "output_type": "display_data"
    }
   ],
   "source": [
    "df = data1.groupby(\"floors\").agg({\"age\":\"mean\"})\n",
    "plt.plot(df[\"age\"],\"--\")"
   ]
  },
  {
   "cell_type": "code",
   "execution_count": 14,
   "metadata": {},
   "outputs": [
    {
     "data": {
      "text/plain": [
       "Text(0.5, 0, 'floors')"
      ]
     },
     "execution_count": 14,
     "metadata": {},
     "output_type": "execute_result"
    },
    {
     "data": {
      "image/png": "[encoded data removed]",
      "text/plain": [
       "<Figure size 432x288 with 1 Axes>"
      ]
     },
     "metadata": {
      "needs_background": "light"
     },
     "output_type": "display_data"
    }
   ],
   "source": [
    "df = data1.groupby(\"floors\").agg({\"height\":\"mean\"})\n",
    "plt.plot(df[\"height\"] ,\"--\")\n",
    "plt.ylabel(\"height\")\n",
    "plt.xlabel(\"floors\")"
   ]
  },
  {
   "cell_type": "markdown",
   "metadata": {},
   "source": [
    "## Anova test on relation btw height and floors"
   ]
  },
  {
   "cell_type": "code",
   "execution_count": 15,
   "metadata": {},
   "outputs": [],
   "source": [
    "import statsmodels.formula.api as smf"
   ]
  },
  {
   "cell_type": "code",
   "execution_count": 16,
   "metadata": {},
   "outputs": [],
   "source": [
    "model = smf.ols(formula = \"height~C(floors)\" , data = data1).fit()"
   ]
  },
  {
   "cell_type": "code",
   "execution_count": 17,
   "metadata": {},
   "outputs": [
    {
     "name": "stdout",
     "output_type": "stream",
     "text": [
      "                            OLS Regression Results                            \n",
      "==============================================================================\n",
      "Dep. Variable:                 height   R-squared:                       0.605\n",
      "Model:                            OLS   Adj. R-squared:                  0.605\n",
      "Method:                 Least Squares   F-statistic:                 6.608e+04\n",
      "Date:                Fri, 31 Jul 2020   Prob (F-statistic):               0.00\n",
      "Time:                        16:59:43   Log-Likelihood:            -4.1563e+05\n",
      "No. Observations:              258925   AIC:                         8.313e+05\n",
      "Df Residuals:                  258918   BIC:                         8.313e+05\n",
      "Df Model:                           6                                         \n",
      "Covariance Type:            nonrobust                                         \n",
      "==================================================================================\n",
      "                     coef    std err          t      P>|t|      [0.025      0.975]\n",
      "----------------------------------------------------------------------------------\n",
      "Intercept          3.0315      0.006    504.860      0.000       3.020       3.043\n",
      "C(floors)[T.2]     2.2250      0.007    330.288      0.000       2.212       2.238\n",
      "C(floors)[T.3]     3.9411      0.008    499.194      0.000       3.926       3.957\n",
      "C(floors)[T.4]     6.6611      0.018    379.827      0.000       6.627       6.696\n",
      "C(floors)[T.5]     8.5089      0.026    321.947      0.000       8.457       8.561\n",
      "C(floors)[T.6]    12.8158      0.085    151.182      0.000      12.650      12.982\n",
      "C(floors)[T.7]    15.6095      0.193     80.874      0.000      15.231      15.988\n",
      "==============================================================================\n",
      "Omnibus:                   225339.537   Durbin-Watson:                   1.999\n",
      "Prob(Omnibus):                  0.000   Jarque-Bera (JB):         41355346.807\n",
      "Skew:                           3.516   Prob(JB):                         0.00\n",
      "Kurtosis:                      64.513   Cond. No.                         98.4\n",
      "==============================================================================\n",
      "\n",
      "Warnings:\n",
      "[1] Standard Errors assume that the covariance matrix of the errors is correctly specified.\n"
     ]
    }
   ],
   "source": [
    "print(model.summary())"
   ]
  },
  {
   "cell_type": "markdown",
   "metadata": {},
   "source": [
    "P static is very low so that means height and floors are corelated so we can drop floors if we want to"
   ]
  },
  {
   "cell_type": "code",
   "execution_count": 18,
   "metadata": {},
   "outputs": [
    {
     "data": {
      "text/html": [
       "<div>\n",
       "<style scoped>\n",
       "    .dataframe tbody tr th:only-of-type {\n",
       "        vertical-align: middle;\n",
       "    }\n",
       "\n",
       "    .dataframe tbody tr th {\n",
       "        vertical-align: top;\n",
       "    }\n",
       "\n",
       "    .dataframe thead th {\n",
       "        text-align: right;\n",
       "    }\n",
       "</style>\n",
       "<table border=\"1\" class=\"dataframe\">\n",
       "  <thead>\n",
       "    <tr style=\"text-align: right;\">\n",
       "      <th></th>\n",
       "      <th>damage</th>\n",
       "    </tr>\n",
       "    <tr>\n",
       "      <th>floors</th>\n",
       "      <th></th>\n",
       "    </tr>\n",
       "  </thead>\n",
       "  <tbody>\n",
       "    <tr>\n",
       "      <th>1</th>\n",
       "      <td>2.041808</td>\n",
       "    </tr>\n",
       "    <tr>\n",
       "      <th>2</th>\n",
       "      <td>2.239688</td>\n",
       "    </tr>\n",
       "    <tr>\n",
       "      <th>3</th>\n",
       "      <td>2.397571</td>\n",
       "    </tr>\n",
       "    <tr>\n",
       "      <th>4</th>\n",
       "      <td>2.117284</td>\n",
       "    </tr>\n",
       "    <tr>\n",
       "      <th>5</th>\n",
       "      <td>2.113647</td>\n",
       "    </tr>\n",
       "    <tr>\n",
       "      <th>6</th>\n",
       "      <td>1.862069</td>\n",
       "    </tr>\n",
       "    <tr>\n",
       "      <th>7</th>\n",
       "      <td>1.846154</td>\n",
       "    </tr>\n",
       "  </tbody>\n",
       "</table>\n",
       "</div>"
      ],
      "text/plain": [
       "          damage\n",
       "floors          \n",
       "1       2.041808\n",
       "2       2.239688\n",
       "3       2.397571\n",
       "4       2.117284\n",
       "5       2.113647\n",
       "6       1.862069\n",
       "7       1.846154"
      ]
     },
     "execution_count": 18,
     "metadata": {},
     "output_type": "execute_result"
    }
   ],
   "source": [
    "df = data1.groupby(\"floors\").agg({\"damage\":\"mean\"})\n",
    "df"
   ]
  },
  {
   "cell_type": "code",
   "execution_count": 19,
   "metadata": {},
   "outputs": [
    {
     "data": {
      "text/plain": [
       "[<matplotlib.lines.Line2D at 0x17ac2cf7348>]"
      ]
     },
     "execution_count": 19,
     "metadata": {},
     "output_type": "execute_result"
    },
    {
     "data": {
      "image/png": "[encoded data removed]",
      "text/plain": [
       "<Figure size 432x288 with 1 Axes>"
      ]
     },
     "metadata": {
      "needs_background": "light"
     },
     "output_type": "display_data"
    }
   ],
   "source": [
    "plt.plot(df[\"damage\"] ,\"--r\")"
   ]
  },
  {
   "cell_type": "code",
   "execution_count": 20,
   "metadata": {},
   "outputs": [
    {
     "data": {
      "text/plain": [
       "[<matplotlib.lines.Line2D at 0x17ac1ec8f48>]"
      ]
     },
     "execution_count": 20,
     "metadata": {},
     "output_type": "execute_result"
    },
    {
     "data": {
      "image/png": "[encoded data removed]",
      "text/plain": [
       "<Figure size 432x288 with 1 Axes>"
      ]
     },
     "metadata": {
      "needs_background": "light"
     },
     "output_type": "display_data"
    }
   ],
   "source": [
    "df = data1.groupby(\"age\").agg({\"damage\":\"mean\"})\n",
    "plt.plot(df[\"damage\"])"
   ]
  },
  {
   "cell_type": "code",
   "execution_count": 21,
   "metadata": {},
   "outputs": [
    {
     "data": {
      "text/plain": [
       "[<matplotlib.lines.Line2D at 0x17ac1b51dc8>]"
      ]
     },
     "execution_count": 21,
     "metadata": {},
     "output_type": "execute_result"
    },
    {
     "data": {
      "image/png": "[encoded data removed]",
      "text/plain": [
       "<Figure size 432x288 with 1 Axes>"
      ]
     },
     "metadata": {
      "needs_background": "light"
     },
     "output_type": "display_data"
    }
   ],
   "source": [
    "df = data1.groupby(\"area\").agg({\"damage\":\"mean\"})\n",
    "plt.plot(df[\"damage\"])"
   ]
  },
  {
   "cell_type": "code",
   "execution_count": 22,
   "metadata": {},
   "outputs": [
    {
     "data": {
      "text/plain": [
       "[<matplotlib.lines.Line2D at 0x17ac2d6fa48>]"
      ]
     },
     "execution_count": 22,
     "metadata": {},
     "output_type": "execute_result"
    },
    {
     "data": {
      "image/png": "[encoded data removed]",
      "text/plain": [
       "<Figure size 432x288 with 1 Axes>"
      ]
     },
     "metadata": {
      "needs_background": "light"
     },
     "output_type": "display_data"
    }
   ],
   "source": [
    "df = data1.groupby(\"foundation\").agg({\"damage\":\"mean\"})\n",
    "plt.plot(df[\"damage\"])"
   ]
  },
  {
   "cell_type": "code",
   "execution_count": 23,
   "metadata": {},
   "outputs": [
    {
     "data": {
      "text/plain": [
       "[<matplotlib.lines.Line2D at 0x17ac2dc8dc8>]"
      ]
     },
     "execution_count": 23,
     "metadata": {},
     "output_type": "execute_result"
    },
    {
     "data": {
      "image/png": "[encoded data removed]",
      "text/plain": [
       "<Figure size 432x288 with 1 Axes>"
      ]
     },
     "metadata": {
      "needs_background": "light"
     },
     "output_type": "display_data"
    }
   ],
   "source": [
    "df = data1.groupby(\"roof\").agg({\"damage\":\"mean\"})\n",
    "plt.plot(df[\"damage\"])"
   ]
  },
  {
   "cell_type": "code",
   "execution_count": 24,
   "metadata": {},
   "outputs": [
    {
     "data": {
      "text/plain": [
       "[<matplotlib.lines.Line2D at 0x17ac2e20948>]"
      ]
     },
     "execution_count": 24,
     "metadata": {},
     "output_type": "execute_result"
    },
    {
     "data": {
      "image/png": "[encoded data removed]",
      "text/plain": [
       "<Figure size 432x288 with 1 Axes>"
      ]
     },
     "metadata": {
      "needs_background": "light"
     },
     "output_type": "display_data"
    }
   ],
   "source": [
    "df = data1.groupby(\"position\").agg({\"damage\":\"mean\"})\n",
    "plt.plot(df[\"damage\"])"
   ]
  },
  {
   "cell_type": "markdown",
   "metadata": {},
   "source": [
    "# MULTIVARIATE Analysis"
   ]
  },
  {
   "cell_type": "code",
   "execution_count": 25,
   "metadata": {},
   "outputs": [
    {
     "data": {
      "text/html": [
       "<table class=\"simpletable\">\n",
       "<caption>OLS Regression Results</caption>\n",
       "<tr>\n",
       "  <th>Dep. Variable:</th>         <td>damage</td>      <th>  R-squared:         </th>  <td>   0.221</td>  \n",
       "</tr>\n",
       "<tr>\n",
       "  <th>Model:</th>                   <td>OLS</td>       <th>  Adj. R-squared:    </th>  <td>   0.221</td>  \n",
       "</tr>\n",
       "<tr>\n",
       "  <th>Method:</th>             <td>Least Squares</td>  <th>  F-statistic:       </th>  <td>   2443.</td>  \n",
       "</tr>\n",
       "<tr>\n",
       "  <th>Date:</th>             <td>Fri, 31 Jul 2020</td> <th>  Prob (F-statistic):</th>   <td>  0.00</td>   \n",
       "</tr>\n",
       "<tr>\n",
       "  <th>Time:</th>                 <td>16:59:46</td>     <th>  Log-Likelihood:    </th> <td>-2.0792e+05</td>\n",
       "</tr>\n",
       "<tr>\n",
       "  <th>No. Observations:</th>      <td>258925</td>      <th>  AIC:               </th>  <td>4.159e+05</td> \n",
       "</tr>\n",
       "<tr>\n",
       "  <th>Df Residuals:</th>          <td>258894</td>      <th>  BIC:               </th>  <td>4.162e+05</td> \n",
       "</tr>\n",
       "<tr>\n",
       "  <th>Df Model:</th>              <td>    30</td>      <th>                     </th>      <td> </td>     \n",
       "</tr>\n",
       "<tr>\n",
       "  <th>Covariance Type:</th>      <td>nonrobust</td>    <th>                     </th>      <td> </td>     \n",
       "</tr>\n",
       "</table>\n",
       "<table class=\"simpletable\">\n",
       "<tr>\n",
       "       <td></td>          <th>coef</th>     <th>std err</th>      <th>t</th>      <th>P>|t|</th>  <th>[0.025</th>    <th>0.975]</th>  \n",
       "</tr>\n",
       "<tr>\n",
       "  <th>Intercept</th>   <td>    2.0659</td> <td>    0.009</td> <td>  241.614</td> <td> 0.000</td> <td>    2.049</td> <td>    2.083</td>\n",
       "</tr>\n",
       "<tr>\n",
       "  <th>C(g1)[T.1]</th>  <td>   -0.1052</td> <td>    0.013</td> <td>   -7.813</td> <td> 0.000</td> <td>   -0.132</td> <td>   -0.079</td>\n",
       "</tr>\n",
       "<tr>\n",
       "  <th>C(g1)[T.2]</th>  <td>    0.1121</td> <td>    0.020</td> <td>    5.578</td> <td> 0.000</td> <td>    0.073</td> <td>    0.151</td>\n",
       "</tr>\n",
       "<tr>\n",
       "  <th>C(g1)[T.3]</th>  <td>    0.2671</td> <td>    0.011</td> <td>   25.229</td> <td> 0.000</td> <td>    0.246</td> <td>    0.288</td>\n",
       "</tr>\n",
       "<tr>\n",
       "  <th>C(g1)[T.4]</th>  <td>    0.0963</td> <td>    0.010</td> <td>    9.974</td> <td> 0.000</td> <td>    0.077</td> <td>    0.115</td>\n",
       "</tr>\n",
       "<tr>\n",
       "  <th>C(g1)[T.5]</th>  <td>   -0.1450</td> <td>    0.014</td> <td>  -10.688</td> <td> 0.000</td> <td>   -0.172</td> <td>   -0.118</td>\n",
       "</tr>\n",
       "<tr>\n",
       "  <th>C(g1)[T.6]</th>  <td>    0.0955</td> <td>    0.009</td> <td>   10.341</td> <td> 0.000</td> <td>    0.077</td> <td>    0.114</td>\n",
       "</tr>\n",
       "<tr>\n",
       "  <th>C(g1)[T.7]</th>  <td>    0.2307</td> <td>    0.009</td> <td>   24.520</td> <td> 0.000</td> <td>    0.212</td> <td>    0.249</td>\n",
       "</tr>\n",
       "<tr>\n",
       "  <th>C(g1)[T.8]</th>  <td>    0.4191</td> <td>    0.009</td> <td>   44.563</td> <td> 0.000</td> <td>    0.401</td> <td>    0.438</td>\n",
       "</tr>\n",
       "<tr>\n",
       "  <th>C(g1)[T.9]</th>  <td>   -0.0399</td> <td>    0.012</td> <td>   -3.291</td> <td> 0.001</td> <td>   -0.064</td> <td>   -0.016</td>\n",
       "</tr>\n",
       "<tr>\n",
       "  <th>C(g1)[T.10]</th> <td>    0.2768</td> <td>    0.009</td> <td>   29.781</td> <td> 0.000</td> <td>    0.259</td> <td>    0.295</td>\n",
       "</tr>\n",
       "<tr>\n",
       "  <th>C(g1)[T.11]</th> <td>    0.2721</td> <td>    0.010</td> <td>   26.083</td> <td> 0.000</td> <td>    0.252</td> <td>    0.293</td>\n",
       "</tr>\n",
       "<tr>\n",
       "  <th>C(g1)[T.12]</th> <td>    0.0910</td> <td>    0.013</td> <td>    7.046</td> <td> 0.000</td> <td>    0.066</td> <td>    0.116</td>\n",
       "</tr>\n",
       "<tr>\n",
       "  <th>C(g1)[T.13]</th> <td>   -0.1270</td> <td>    0.010</td> <td>  -12.483</td> <td> 0.000</td> <td>   -0.147</td> <td>   -0.107</td>\n",
       "</tr>\n",
       "<tr>\n",
       "  <th>C(g1)[T.14]</th> <td>   -0.0178</td> <td>    0.016</td> <td>   -1.132</td> <td> 0.258</td> <td>   -0.049</td> <td>    0.013</td>\n",
       "</tr>\n",
       "<tr>\n",
       "  <th>C(g1)[T.15]</th> <td>    0.0725</td> <td>    0.014</td> <td>    5.133</td> <td> 0.000</td> <td>    0.045</td> <td>    0.100</td>\n",
       "</tr>\n",
       "<tr>\n",
       "  <th>C(g1)[T.16]</th> <td>    0.1058</td> <td>    0.012</td> <td>    8.926</td> <td> 0.000</td> <td>    0.083</td> <td>    0.129</td>\n",
       "</tr>\n",
       "<tr>\n",
       "  <th>C(g1)[T.17]</th> <td>    0.7285</td> <td>    0.009</td> <td>   78.311</td> <td> 0.000</td> <td>    0.710</td> <td>    0.747</td>\n",
       "</tr>\n",
       "<tr>\n",
       "  <th>C(g1)[T.18]</th> <td>    0.6392</td> <td>    0.013</td> <td>   49.541</td> <td> 0.000</td> <td>    0.614</td> <td>    0.664</td>\n",
       "</tr>\n",
       "<tr>\n",
       "  <th>C(g1)[T.19]</th> <td>   -0.0041</td> <td>    0.029</td> <td>   -0.139</td> <td> 0.889</td> <td>   -0.061</td> <td>    0.053</td>\n",
       "</tr>\n",
       "<tr>\n",
       "  <th>C(g1)[T.20]</th> <td>   -0.1395</td> <td>    0.009</td> <td>  -14.695</td> <td> 0.000</td> <td>   -0.158</td> <td>   -0.121</td>\n",
       "</tr>\n",
       "<tr>\n",
       "  <th>C(g1)[T.21]</th> <td>    0.4966</td> <td>    0.010</td> <td>   51.553</td> <td> 0.000</td> <td>    0.478</td> <td>    0.515</td>\n",
       "</tr>\n",
       "<tr>\n",
       "  <th>C(g1)[T.22]</th> <td>   -0.0627</td> <td>    0.011</td> <td>   -5.717</td> <td> 0.000</td> <td>   -0.084</td> <td>   -0.041</td>\n",
       "</tr>\n",
       "<tr>\n",
       "  <th>C(g1)[T.23]</th> <td>    0.1207</td> <td>    0.018</td> <td>    6.609</td> <td> 0.000</td> <td>    0.085</td> <td>    0.157</td>\n",
       "</tr>\n",
       "<tr>\n",
       "  <th>C(g1)[T.24]</th> <td>   -0.1579</td> <td>    0.018</td> <td>   -8.989</td> <td> 0.000</td> <td>   -0.192</td> <td>   -0.123</td>\n",
       "</tr>\n",
       "<tr>\n",
       "  <th>C(g1)[T.25]</th> <td>   -0.0129</td> <td>    0.011</td> <td>   -1.148</td> <td> 0.251</td> <td>   -0.035</td> <td>    0.009</td>\n",
       "</tr>\n",
       "<tr>\n",
       "  <th>C(g1)[T.26]</th> <td>   -0.3352</td> <td>    0.009</td> <td>  -36.125</td> <td> 0.000</td> <td>   -0.353</td> <td>   -0.317</td>\n",
       "</tr>\n",
       "<tr>\n",
       "  <th>C(g1)[T.27]</th> <td>    0.3828</td> <td>    0.010</td> <td>   38.935</td> <td> 0.000</td> <td>    0.364</td> <td>    0.402</td>\n",
       "</tr>\n",
       "<tr>\n",
       "  <th>C(g1)[T.28]</th> <td>    0.3416</td> <td>    0.034</td> <td>    9.970</td> <td> 0.000</td> <td>    0.274</td> <td>    0.409</td>\n",
       "</tr>\n",
       "<tr>\n",
       "  <th>C(g1)[T.29]</th> <td>    0.0124</td> <td>    0.028</td> <td>    0.435</td> <td> 0.663</td> <td>   -0.043</td> <td>    0.068</td>\n",
       "</tr>\n",
       "<tr>\n",
       "  <th>C(g1)[T.30]</th> <td>   -0.0461</td> <td>    0.014</td> <td>   -3.412</td> <td> 0.001</td> <td>   -0.073</td> <td>   -0.020</td>\n",
       "</tr>\n",
       "</table>\n",
       "<table class=\"simpletable\">\n",
       "<tr>\n",
       "  <th>Omnibus:</th>       <td>1328.403</td> <th>  Durbin-Watson:     </th> <td>   2.002</td> \n",
       "</tr>\n",
       "<tr>\n",
       "  <th>Prob(Omnibus):</th>  <td> 0.000</td>  <th>  Jarque-Bera (JB):  </th> <td>1337.911</td> \n",
       "</tr>\n",
       "<tr>\n",
       "  <th>Skew:</th>           <td>-0.170</td>  <th>  Prob(JB):          </th> <td>2.99e-291</td>\n",
       "</tr>\n",
       "<tr>\n",
       "  <th>Kurtosis:</th>       <td> 2.911</td>  <th>  Cond. No.          </th> <td>    48.1</td> \n",
       "</tr>\n",
       "</table><br/><br/>Warnings:<br/>[1] Standard Errors assume that the covariance matrix of the errors is correctly specified."
      ],
      "text/plain": [
       "<class 'statsmodels.iolib.summary.Summary'>\n",
       "\"\"\"\n",
       "                            OLS Regression Results                            \n",
       "==============================================================================\n",
       "Dep. Variable:                 damage   R-squared:                       0.221\n",
       "Model:                            OLS   Adj. R-squared:                  0.221\n",
       "Method:                 Least Squares   F-statistic:                     2443.\n",
       "Date:                Fri, 31 Jul 2020   Prob (F-statistic):               0.00\n",
       "Time:                        16:59:46   Log-Likelihood:            -2.0792e+05\n",
       "No. Observations:              258925   AIC:                         4.159e+05\n",
       "Df Residuals:                  258894   BIC:                         4.162e+05\n",
       "Df Model:                          30                                         \n",
       "Covariance Type:            nonrobust                                         \n",
       "===============================================================================\n",
       "                  coef    std err          t      P>|t|      [0.025      0.975]\n",
       "-------------------------------------------------------------------------------\n",
       "Intercept       2.0659      0.009    241.614      0.000       2.049       2.083\n",
       "C(g1)[T.1]     -0.1052      0.013     -7.813      0.000      -0.132      -0.079\n",
       "C(g1)[T.2]      0.1121      0.020      5.578      0.000       0.073       0.151\n",
       "C(g1)[T.3]      0.2671      0.011     25.229      0.000       0.246       0.288\n",
       "C(g1)[T.4]      0.0963      0.010      9.974      0.000       0.077       0.115\n",
       "C(g1)[T.5]     -0.1450      0.014    -10.688      0.000      -0.172      -0.118\n",
       "C(g1)[T.6]      0.0955      0.009     10.341      0.000       0.077       0.114\n",
       "C(g1)[T.7]      0.2307      0.009     24.520      0.000       0.212       0.249\n",
       "C(g1)[T.8]      0.4191      0.009     44.563      0.000       0.401       0.438\n",
       "C(g1)[T.9]     -0.0399      0.012     -3.291      0.001      -0.064      -0.016\n",
       "C(g1)[T.10]     0.2768      0.009     29.781      0.000       0.259       0.295\n",
       "C(g1)[T.11]     0.2721      0.010     26.083      0.000       0.252       0.293\n",
       "C(g1)[T.12]     0.0910      0.013      7.046      0.000       0.066       0.116\n",
       "C(g1)[T.13]    -0.1270      0.010    -12.483      0.000      -0.147      -0.107\n",
       "C(g1)[T.14]    -0.0178      0.016     -1.132      0.258      -0.049       0.013\n",
       "C(g1)[T.15]     0.0725      0.014      5.133      0.000       0.045       0.100\n",
       "C(g1)[T.16]     0.1058      0.012      8.926      0.000       0.083       0.129\n",
       "C(g1)[T.17]     0.7285      0.009     78.311      0.000       0.710       0.747\n",
       "C(g1)[T.18]     0.6392      0.013     49.541      0.000       0.614       0.664\n",
       "C(g1)[T.19]    -0.0041      0.029     -0.139      0.889      -0.061       0.053\n",
       "C(g1)[T.20]    -0.1395      0.009    -14.695      0.000      -0.158      -0.121\n",
       "C(g1)[T.21]     0.4966      0.010     51.553      0.000       0.478       0.515\n",
       "C(g1)[T.22]    -0.0627      0.011     -5.717      0.000      -0.084      -0.041\n",
       "C(g1)[T.23]     0.1207      0.018      6.609      0.000       0.085       0.157\n",
       "C(g1)[T.24]    -0.1579      0.018     -8.989      0.000      -0.192      -0.123\n",
       "C(g1)[T.25]    -0.0129      0.011     -1.148      0.251      -0.035       0.009\n",
       "C(g1)[T.26]    -0.3352      0.009    -36.125      0.000      -0.353      -0.317\n",
       "C(g1)[T.27]     0.3828      0.010     38.935      0.000       0.364       0.402\n",
       "C(g1)[T.28]     0.3416      0.034      9.970      0.000       0.274       0.409\n",
       "C(g1)[T.29]     0.0124      0.028      0.435      0.663      -0.043       0.068\n",
       "C(g1)[T.30]    -0.0461      0.014     -3.412      0.001      -0.073      -0.020\n",
       "==============================================================================\n",
       "Omnibus:                     1328.403   Durbin-Watson:                   2.002\n",
       "Prob(Omnibus):                  0.000   Jarque-Bera (JB):             1337.911\n",
       "Skew:                          -0.170   Prob(JB):                    2.99e-291\n",
       "Kurtosis:                       2.911   Cond. No.                         48.1\n",
       "==============================================================================\n",
       "\n",
       "Warnings:\n",
       "[1] Standard Errors assume that the covariance matrix of the errors is correctly specified.\n",
       "\"\"\""
      ]
     },
     "execution_count": 25,
     "metadata": {},
     "output_type": "execute_result"
    }
   ],
   "source": [
    "model = smf.ols(formula = \"damage  ~ C(g1) \" , data = data1).fit()\n",
    "model.summary()"
   ]
  },
  {
   "cell_type": "markdown",
   "metadata": {},
   "source": [
    "only 22.1 % variablity explanined"
   ]
  },
  {
   "cell_type": "code",
   "execution_count": 26,
   "metadata": {
    "scrolled": true
   },
   "outputs": [
    {
     "data": {
      "text/html": [
       "<table class=\"simpletable\">\n",
       "<caption>OLS Regression Results</caption>\n",
       "<tr>\n",
       "  <th>Dep. Variable:</th>         <td>damage</td>      <th>  R-squared:         </th>  <td>   0.007</td>  \n",
       "</tr>\n",
       "<tr>\n",
       "  <th>Model:</th>                   <td>OLS</td>       <th>  Adj. R-squared:    </th>  <td>   0.007</td>  \n",
       "</tr>\n",
       "<tr>\n",
       "  <th>Method:</th>             <td>Least Squares</td>  <th>  F-statistic:       </th>  <td>   876.4</td>  \n",
       "</tr>\n",
       "<tr>\n",
       "  <th>Date:</th>             <td>Fri, 31 Jul 2020</td> <th>  Prob (F-statistic):</th>   <td>  0.00</td>   \n",
       "</tr>\n",
       "<tr>\n",
       "  <th>Time:</th>                 <td>16:59:46</td>     <th>  Log-Likelihood:    </th> <td>-2.3932e+05</td>\n",
       "</tr>\n",
       "<tr>\n",
       "  <th>No. Observations:</th>      <td>258925</td>      <th>  AIC:               </th>  <td>4.786e+05</td> \n",
       "</tr>\n",
       "<tr>\n",
       "  <th>Df Residuals:</th>          <td>258922</td>      <th>  BIC:               </th>  <td>4.787e+05</td> \n",
       "</tr>\n",
       "<tr>\n",
       "  <th>Df Model:</th>              <td>     2</td>      <th>                     </th>      <td> </td>     \n",
       "</tr>\n",
       "<tr>\n",
       "  <th>Covariance Type:</th>      <td>nonrobust</td>    <th>                     </th>      <td> </td>     \n",
       "</tr>\n",
       "</table>\n",
       "<table class=\"simpletable\">\n",
       "<tr>\n",
       "      <td></td>         <th>coef</th>     <th>std err</th>      <th>t</th>      <th>P>|t|</th>  <th>[0.025</th>    <th>0.975]</th>  \n",
       "</tr>\n",
       "<tr>\n",
       "  <th>Intercept</th> <td>    2.2726</td> <td>    0.003</td> <td>  703.915</td> <td> 0.000</td> <td>    2.266</td> <td>    2.279</td>\n",
       "</tr>\n",
       "<tr>\n",
       "  <th>g1</th>        <td>   -0.0053</td> <td>    0.000</td> <td>  -35.676</td> <td> 0.000</td> <td>   -0.006</td> <td>   -0.005</td>\n",
       "</tr>\n",
       "<tr>\n",
       "  <th>g2</th>        <td>  5.73e-05</td> <td> 2.91e-06</td> <td>   19.703</td> <td> 0.000</td> <td> 5.16e-05</td> <td>  6.3e-05</td>\n",
       "</tr>\n",
       "</table>\n",
       "<table class=\"simpletable\">\n",
       "<tr>\n",
       "  <th>Omnibus:</th>       <td>9762.671</td> <th>  Durbin-Watson:     </th> <td>   2.002</td>\n",
       "</tr>\n",
       "<tr>\n",
       "  <th>Prob(Omnibus):</th>  <td> 0.000</td>  <th>  Jarque-Bera (JB):  </th> <td>5036.717</td>\n",
       "</tr>\n",
       "<tr>\n",
       "  <th>Skew:</th>           <td>-0.156</td>  <th>  Prob(JB):          </th> <td>    0.00</td>\n",
       "</tr>\n",
       "<tr>\n",
       "  <th>Kurtosis:</th>       <td> 2.392</td>  <th>  Cond. No.          </th> <td>2.19e+03</td>\n",
       "</tr>\n",
       "</table><br/><br/>Warnings:<br/>[1] Standard Errors assume that the covariance matrix of the errors is correctly specified.<br/>[2] The condition number is large, 2.19e+03. This might indicate that there are<br/>strong multicollinearity or other numerical problems."
      ],
      "text/plain": [
       "<class 'statsmodels.iolib.summary.Summary'>\n",
       "\"\"\"\n",
       "                            OLS Regression Results                            \n",
       "==============================================================================\n",
       "Dep. Variable:                 damage   R-squared:                       0.007\n",
       "Model:                            OLS   Adj. R-squared:                  0.007\n",
       "Method:                 Least Squares   F-statistic:                     876.4\n",
       "Date:                Fri, 31 Jul 2020   Prob (F-statistic):               0.00\n",
       "Time:                        16:59:46   Log-Likelihood:            -2.3932e+05\n",
       "No. Observations:              258925   AIC:                         4.786e+05\n",
       "Df Residuals:                  258922   BIC:                         4.787e+05\n",
       "Df Model:                           2                                         \n",
       "Covariance Type:            nonrobust                                         \n",
       "==============================================================================\n",
       "                 coef    std err          t      P>|t|      [0.025      0.975]\n",
       "------------------------------------------------------------------------------\n",
       "Intercept      2.2726      0.003    703.915      0.000       2.266       2.279\n",
       "g1            -0.0053      0.000    -35.676      0.000      -0.006      -0.005\n",
       "g2           5.73e-05   2.91e-06     19.703      0.000    5.16e-05     6.3e-05\n",
       "==============================================================================\n",
       "Omnibus:                     9762.671   Durbin-Watson:                   2.002\n",
       "Prob(Omnibus):                  0.000   Jarque-Bera (JB):             5036.717\n",
       "Skew:                          -0.156   Prob(JB):                         0.00\n",
       "Kurtosis:                       2.392   Cond. No.                     2.19e+03\n",
       "==============================================================================\n",
       "\n",
       "Warnings:\n",
       "[1] Standard Errors assume that the covariance matrix of the errors is correctly specified.\n",
       "[2] The condition number is large, 2.19e+03. This might indicate that there are\n",
       "strong multicollinearity or other numerical problems.\n",
       "\"\"\""
      ]
     },
     "execution_count": 26,
     "metadata": {},
     "output_type": "execute_result"
    }
   ],
   "source": [
    "model = smf.ols(formula = \"damage  ~ g1+g2 \" , data = data1).fit()\n",
    "model.summary()"
   ]
  },
  {
   "cell_type": "markdown",
   "metadata": {},
   "source": [
    "adding g2 decreases rsquared hence not needed"
   ]
  },
  {
   "cell_type": "code",
   "execution_count": 27,
   "metadata": {},
   "outputs": [
    {
     "data": {
      "text/html": [
       "<table class=\"simpletable\">\n",
       "<caption>OLS Regression Results</caption>\n",
       "<tr>\n",
       "  <th>Dep. Variable:</th>         <td>damage</td>      <th>  R-squared:         </th>  <td>   0.043</td>  \n",
       "</tr>\n",
       "<tr>\n",
       "  <th>Model:</th>                   <td>OLS</td>       <th>  Adj. R-squared:    </th>  <td>   0.043</td>  \n",
       "</tr>\n",
       "<tr>\n",
       "  <th>Method:</th>             <td>Least Squares</td>  <th>  F-statistic:       </th>  <td>   2881.</td>  \n",
       "</tr>\n",
       "<tr>\n",
       "  <th>Date:</th>             <td>Fri, 31 Jul 2020</td> <th>  Prob (F-statistic):</th>   <td>  0.00</td>   \n",
       "</tr>\n",
       "<tr>\n",
       "  <th>Time:</th>                 <td>16:59:47</td>     <th>  Log-Likelihood:    </th> <td>-2.3455e+05</td>\n",
       "</tr>\n",
       "<tr>\n",
       "  <th>No. Observations:</th>      <td>258925</td>      <th>  AIC:               </th>  <td>4.691e+05</td> \n",
       "</tr>\n",
       "<tr>\n",
       "  <th>Df Residuals:</th>          <td>258920</td>      <th>  BIC:               </th>  <td>4.692e+05</td> \n",
       "</tr>\n",
       "<tr>\n",
       "  <th>Df Model:</th>              <td>     4</td>      <th>                     </th>      <td> </td>     \n",
       "</tr>\n",
       "<tr>\n",
       "  <th>Covariance Type:</th>      <td>nonrobust</td>    <th>                     </th>      <td> </td>     \n",
       "</tr>\n",
       "</table>\n",
       "<table class=\"simpletable\">\n",
       "<tr>\n",
       "      <td></td>         <th>coef</th>     <th>std err</th>      <th>t</th>      <th>P>|t|</th>  <th>[0.025</th>    <th>0.975]</th>  \n",
       "</tr>\n",
       "<tr>\n",
       "  <th>Intercept</th> <td>    2.2708</td> <td>    0.004</td> <td>  507.448</td> <td> 0.000</td> <td>    2.262</td> <td>    2.280</td>\n",
       "</tr>\n",
       "<tr>\n",
       "  <th>g1</th>        <td>   -0.0042</td> <td>    0.000</td> <td>  -28.217</td> <td> 0.000</td> <td>   -0.004</td> <td>   -0.004</td>\n",
       "</tr>\n",
       "<tr>\n",
       "  <th>height</th>    <td>    0.0132</td> <td>    0.001</td> <td>   20.470</td> <td> 0.000</td> <td>    0.012</td> <td>    0.014</td>\n",
       "</tr>\n",
       "<tr>\n",
       "  <th>area</th>      <td>   -0.0175</td> <td>    0.000</td> <td>  -63.442</td> <td> 0.000</td> <td>   -0.018</td> <td>   -0.017</td>\n",
       "</tr>\n",
       "<tr>\n",
       "  <th>age</th>       <td>    0.0044</td> <td> 6.36e-05</td> <td>   69.867</td> <td> 0.000</td> <td>    0.004</td> <td>    0.005</td>\n",
       "</tr>\n",
       "</table>\n",
       "<table class=\"simpletable\">\n",
       "<tr>\n",
       "  <th>Omnibus:</th>       <td>12894.982</td> <th>  Durbin-Watson:     </th> <td>   2.003</td>\n",
       "</tr>\n",
       "<tr>\n",
       "  <th>Prob(Omnibus):</th>  <td> 0.000</td>   <th>  Jarque-Bera (JB):  </th> <td>5310.971</td>\n",
       "</tr>\n",
       "<tr>\n",
       "  <th>Skew:</th>           <td>-0.080</td>   <th>  Prob(JB):          </th> <td>    0.00</td>\n",
       "</tr>\n",
       "<tr>\n",
       "  <th>Kurtosis:</th>       <td> 2.317</td>   <th>  Cond. No.          </th> <td>    121.</td>\n",
       "</tr>\n",
       "</table><br/><br/>Warnings:<br/>[1] Standard Errors assume that the covariance matrix of the errors is correctly specified."
      ],
      "text/plain": [
       "<class 'statsmodels.iolib.summary.Summary'>\n",
       "\"\"\"\n",
       "                            OLS Regression Results                            \n",
       "==============================================================================\n",
       "Dep. Variable:                 damage   R-squared:                       0.043\n",
       "Model:                            OLS   Adj. R-squared:                  0.043\n",
       "Method:                 Least Squares   F-statistic:                     2881.\n",
       "Date:                Fri, 31 Jul 2020   Prob (F-statistic):               0.00\n",
       "Time:                        16:59:47   Log-Likelihood:            -2.3455e+05\n",
       "No. Observations:              258925   AIC:                         4.691e+05\n",
       "Df Residuals:                  258920   BIC:                         4.692e+05\n",
       "Df Model:                           4                                         \n",
       "Covariance Type:            nonrobust                                         \n",
       "==============================================================================\n",
       "                 coef    std err          t      P>|t|      [0.025      0.975]\n",
       "------------------------------------------------------------------------------\n",
       "Intercept      2.2708      0.004    507.448      0.000       2.262       2.280\n",
       "g1            -0.0042      0.000    -28.217      0.000      -0.004      -0.004\n",
       "height         0.0132      0.001     20.470      0.000       0.012       0.014\n",
       "area          -0.0175      0.000    -63.442      0.000      -0.018      -0.017\n",
       "age            0.0044   6.36e-05     69.867      0.000       0.004       0.005\n",
       "==============================================================================\n",
       "Omnibus:                    12894.982   Durbin-Watson:                   2.003\n",
       "Prob(Omnibus):                  0.000   Jarque-Bera (JB):             5310.971\n",
       "Skew:                          -0.080   Prob(JB):                         0.00\n",
       "Kurtosis:                       2.317   Cond. No.                         121.\n",
       "==============================================================================\n",
       "\n",
       "Warnings:\n",
       "[1] Standard Errors assume that the covariance matrix of the errors is correctly specified.\n",
       "\"\"\""
      ]
     },
     "execution_count": 27,
     "metadata": {},
     "output_type": "execute_result"
    }
   ],
   "source": [
    "model = smf.ols(formula = \"damage  ~ g1+height+area+age \" , data = data1).fit()\n",
    "model.summary()"
   ]
  },
  {
   "cell_type": "code",
   "execution_count": 28,
   "metadata": {},
   "outputs": [
    {
     "data": {
      "image/png": "[encoded data removed]",
      "text/plain": [
       "<Figure size 432x288 with 1 Axes>"
      ]
     },
     "metadata": {
      "needs_background": "light"
     },
     "output_type": "display_data"
    }
   ],
   "source": [
    "plt.scatter(data1[\"age\"] ,data1[\"position\"] , c = data1[\"damage\"])\n",
    "plt.show()"
   ]
  }
 ],
 "metadata": {
  "kernelspec": {
   "display_name": "Python 3",
   "language": "python",
   "name": "python3"
  },
  "language_info": {
   "codemirror_mode": {
    "name": "ipython",
    "version": 3
   },
   "file_extension": ".py",
   "mimetype": "text/x-python",
   "name": "python",
   "nbconvert_exporter": "python",
   "pygments_lexer": "ipython3",
   "version": "3.7.6"
  }
 },
 "nbformat": 4,
 "nbformat_minor": 4
}
