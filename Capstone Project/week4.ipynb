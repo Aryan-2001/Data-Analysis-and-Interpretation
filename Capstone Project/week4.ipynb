{
 "cells": [
  {
   "cell_type": "markdown",
   "metadata": {},
   "source": [
    "# Final modeling"
   ]
  },
  {
   "cell_type": "code",
   "execution_count": 1,
   "metadata": {},
   "outputs": [],
   "source": [
    "import numpy as np\n",
    "import pandas as pd\n",
    "from sklearn.ensemble import RandomForestClassifier\n",
    "import statsmodels.formula.api as sp\n",
    "import matplotlib.pyplot as plt"
   ]
  },
  {
   "cell_type": "code",
   "execution_count": 2,
   "metadata": {},
   "outputs": [],
   "source": [
    "train_values = pd.read_csv(\"train_values.csv\")\n",
    "train_labels = pd.read_csv(\"train_labels.csv\")\n",
    "data = pd.merge(train_values,train_labels,right_on = \"building_id\" , left_on = \"building_id\" )"
   ]
  },
  {
   "cell_type": "code",
   "execution_count": 3,
   "metadata": {},
   "outputs": [
    {
     "name": "stdout",
     "output_type": "stream",
     "text": [
      "       id  g1   g2     g3  floors  age  area  height surface foundation roof  \\\n",
      "0  802906   6  487  12198       2   30     6       5       t          r    n   \n",
      "1   28830   8  900   2812       2   10     8       7       o          r    n   \n",
      "2   94947  21  363   8973       2   10     5       5       t          r    n   \n",
      "3  590882  22  418  10694       2   10     6       5       t          r    n   \n",
      "4  201944  11  131   1488       3   30     8       9       t          r    n   \n",
      "\n",
      "  position  damage  \n",
      "0        t       3  \n",
      "1        s       2  \n",
      "2        t       3  \n",
      "3        s       2  \n",
      "4        s       3  \n"
     ]
    }
   ],
   "source": [
    "data1 = data.iloc[:,0:15].copy()\n",
    "data1[\"damage\"] = data[\"damage_grade\"].copy()\n",
    "\n",
    "\n",
    "data1 = data1.drop(\"other_floor_type\" ,axis = 1).copy()\n",
    "\n",
    "data1 = data1.drop(\"plan_configuration\",axis = 1).copy()\n",
    "data1 = data1.drop(\"ground_floor_type\" , axis = 1).copy()\n",
    "\n",
    "data1.columns = [\"id\" ,\"g1\" ,\"g2\", \"g3\" ,\"floors\" ,\"age\" ,\"area\" ,\"height\" ,\"surface\" ,\"foundation\" ,\"roof\" ,\"position\",\"damage\"]\n",
    "print(data1.head())"
   ]
  },
  {
   "cell_type": "code",
   "execution_count": 4,
   "metadata": {},
   "outputs": [],
   "source": [
    "def fun1(a):\n",
    "    \n",
    "    \n",
    "    if a ==\"n\":\n",
    "        return -1\n",
    "    elif a ==\"o\":\n",
    "        return 0\n",
    "    else :\n",
    "        return 1\n",
    "        \n",
    "data1[\"surface\"] = list(map(fun1,data1[\"surface\"]))\n",
    "\n",
    "def fun2(a):\n",
    "    if a ==\"j\":\n",
    "        return -2\n",
    "    elif a ==\"o\":\n",
    "        return -1\n",
    "    elif a==\"s\":\n",
    "        return 1\n",
    "    else :\n",
    "        return 2\n",
    "    \n",
    "data1[\"position\"] = list(map(fun2,data1[\"position\"]))\n",
    "\n",
    "def fun3(a):\n",
    "    \n",
    "    \n",
    "    if a ==\"n\":\n",
    "        return -1\n",
    "    elif a ==\"q\":\n",
    "        return 0\n",
    "    else :\n",
    "        return 1\n",
    "    \n",
    "data1[\"roof\"] = list(map(fun3,data1[\"roof\"]))\n",
    "data1[\"foundation\"] = list(map(fun3,data1[\"foundation\"]))"
   ]
  },
  {
   "cell_type": "markdown",
   "metadata": {},
   "source": [
    "#  Applying ML Techniques "
   ]
  },
  {
   "cell_type": "code",
   "execution_count": 5,
   "metadata": {},
   "outputs": [],
   "source": [
    "from sklearn.model_selection import train_test_split"
   ]
  },
  {
   "cell_type": "code",
   "execution_count": 6,
   "metadata": {},
   "outputs": [],
   "source": [
    "data1 = data1[(data1[\"age\"]<=140)&(data1[\"floors\"]<=7)].copy()"
   ]
  },
  {
   "cell_type": "code",
   "execution_count": 7,
   "metadata": {},
   "outputs": [],
   "source": [
    "data1[\"damage\"] = data1[\"damage\"].astype(\"category\")\n",
    "data1[\"position\"] = data1[\"position\"].astype(\"category\")\n",
    "data1[\"roof\"] = data1[\"roof\"].astype(\"category\")\n",
    "data1[\"foundation\"] = data1[\"roof\"].astype(\"category\")\n",
    "data1[\"surface\"] = data1[\"surface\"].astype(\"category\")\n",
    "data1[\"floors\"] = data1[\"floors\"].astype(\"category\")\n"
   ]
  },
  {
   "cell_type": "code",
   "execution_count": 8,
   "metadata": {},
   "outputs": [
    {
     "data": {
      "text/plain": [
       "CategoricalDtype(categories=[-1, 0, 1], ordered=False)"
      ]
     },
     "execution_count": 8,
     "metadata": {},
     "output_type": "execute_result"
    }
   ],
   "source": [
    "data1[\"surface\"].dtype"
   ]
  },
  {
   "cell_type": "code",
   "execution_count": 9,
   "metadata": {},
   "outputs": [
    {
     "data": {
      "text/plain": [
       "CategoricalDtype(categories=[-2, -1, 1, 2], ordered=False)"
      ]
     },
     "execution_count": 9,
     "metadata": {},
     "output_type": "execute_result"
    }
   ],
   "source": [
    "data1[\"position\"].dtype"
   ]
  },
  {
   "cell_type": "code",
   "execution_count": 10,
   "metadata": {},
   "outputs": [
    {
     "data": {
      "text/plain": [
       "CategoricalDtype(categories=[-1, 0, 1], ordered=False)"
      ]
     },
     "execution_count": 10,
     "metadata": {},
     "output_type": "execute_result"
    }
   ],
   "source": [
    "data1[\"roof\"].dtype"
   ]
  },
  {
   "cell_type": "code",
   "execution_count": 11,
   "metadata": {},
   "outputs": [
    {
     "data": {
      "text/plain": [
       "CategoricalDtype(categories=[-1, 0, 1], ordered=False)"
      ]
     },
     "execution_count": 11,
     "metadata": {},
     "output_type": "execute_result"
    }
   ],
   "source": [
    "data1[\"foundation\"].dtype"
   ]
  },
  {
   "cell_type": "code",
   "execution_count": 12,
   "metadata": {},
   "outputs": [],
   "source": [
    "x = data1.iloc[:,1:12].copy()\n",
    "y = data1[\"damage\"].copy()"
   ]
  },
  {
   "cell_type": "code",
   "execution_count": 13,
   "metadata": {},
   "outputs": [],
   "source": [
    "x_train,x_test,y_train,y_test = train_test_split(x,y,test_size = 0.2 ,random_state = 45 )"
   ]
  },
  {
   "cell_type": "code",
   "execution_count": 14,
   "metadata": {},
   "outputs": [
    {
     "data": {
      "text/plain": [
       "80200     2\n",
       "153038    2\n",
       "187827    2\n",
       "90892     2\n",
       "251002    2\n",
       "         ..\n",
       "61350     3\n",
       "137963    3\n",
       "195420    3\n",
       "138514    3\n",
       "254502    3\n",
       "Name: damage, Length: 207140, dtype: category\n",
       "Categories (3, int64): [1, 2, 3]"
      ]
     },
     "execution_count": 14,
     "metadata": {},
     "output_type": "execute_result"
    }
   ],
   "source": [
    "y_train"
   ]
  },
  {
   "cell_type": "markdown",
   "metadata": {},
   "source": [
    "# Using random forests"
   ]
  },
  {
   "cell_type": "code",
   "execution_count": null,
   "metadata": {},
   "outputs": [],
   "source": [
    "import sklearn.metrics as sk\n",
    "ls = []\n",
    "ls1 =[]\n",
    "for i in range(10,110,10):\n",
    "    model = RandomForestClassifier(n_estimators = i,random_state = 50).fit(x_train,y_train)\n",
    "    pred = model.predict(x_test)\n",
    "    ls1.append(i)\n",
    "    ls.append(sk.accuracy_score(y_test,pred))\n",
    "    \n",
    "    "
   ]
  },
  {
   "cell_type": "code",
   "execution_count": null,
   "metadata": {},
   "outputs": [],
   "source": [
    "plt.plot(ls1,ls,\"--r\")"
   ]
  },
  {
   "cell_type": "markdown",
   "metadata": {},
   "source": [
    "since accuracy is not changing a lot with model we will be using n = 40 as our number of estimators "
   ]
  },
  {
   "cell_type": "code",
   "execution_count": 16,
   "metadata": {},
   "outputs": [],
   "source": [
    " model = RandomForestClassifier(n_estimators = 40,random_state = 50).fit(x,y)"
   ]
  },
  {
   "cell_type": "markdown",
   "metadata": {},
   "source": [
    "# Predicting Data"
   ]
  },
  {
   "cell_type": "code",
   "execution_count": 18,
   "metadata": {},
   "outputs": [],
   "source": [
    "x_test = pd.read_csv(\"test_values.csv\")\n",
    "\n",
    "data1 = x_test.iloc[:,0:15].copy()\n",
    "data1 = data1.drop(\"other_floor_type\" ,axis = 1).copy()\n",
    "data1 = data1.drop(\"plan_configuration\",axis = 1).copy()\n",
    "data1 = data1.drop(\"ground_floor_type\" , axis = 1).copy()\n",
    "data1.columns = [\"id\" ,\"g1\" ,\"g2\", \"g3\" ,\"floors\" ,\"age\" ,\"area\" ,\"height\" ,\"surface\" ,\"foundation\" ,\"roof\" ,\"position\"]\n",
    "\n",
    "\n",
    "def fun1(a):\n",
    "    \n",
    "    \n",
    "    if a ==\"n\":\n",
    "        return -1\n",
    "    elif a ==\"o\":\n",
    "        return 0\n",
    "    else :\n",
    "        return 1\n",
    "        \n",
    "data1[\"surface\"] = list(map(fun1,data1[\"surface\"]))\n",
    "\n",
    "def fun2(a):\n",
    "    if a ==\"j\":\n",
    "        return -2\n",
    "    elif a ==\"o\":\n",
    "        return -1\n",
    "    elif a==\"s\":\n",
    "        return 1\n",
    "    else :\n",
    "        return 2\n",
    "    \n",
    "data1[\"position\"] = list(map(fun2,data1[\"position\"]))\n",
    "\n",
    "def fun3(a):\n",
    "    \n",
    "    \n",
    "    if a ==\"n\":\n",
    "        return -1\n",
    "    elif a ==\"q\":\n",
    "        return 0\n",
    "    else :\n",
    "        return 1\n",
    "    \n",
    "data1[\"roof\"] = list(map(fun3,data1[\"roof\"]))\n",
    "data1[\"foundation\"] = list(map(fun3,data1[\"foundation\"]))"
   ]
  },
  {
   "cell_type": "code",
   "execution_count": 19,
   "metadata": {},
   "outputs": [
    {
     "data": {
      "text/html": [
       "<div>\n",
       "<style scoped>\n",
       "    .dataframe tbody tr th:only-of-type {\n",
       "        vertical-align: middle;\n",
       "    }\n",
       "\n",
       "    .dataframe tbody tr th {\n",
       "        vertical-align: top;\n",
       "    }\n",
       "\n",
       "    .dataframe thead th {\n",
       "        text-align: right;\n",
       "    }\n",
       "</style>\n",
       "<table border=\"1\" class=\"dataframe\">\n",
       "  <thead>\n",
       "    <tr style=\"text-align: right;\">\n",
       "      <th></th>\n",
       "      <th>id</th>\n",
       "      <th>g1</th>\n",
       "      <th>g2</th>\n",
       "      <th>g3</th>\n",
       "      <th>floors</th>\n",
       "      <th>age</th>\n",
       "      <th>area</th>\n",
       "      <th>height</th>\n",
       "      <th>surface</th>\n",
       "      <th>foundation</th>\n",
       "      <th>roof</th>\n",
       "      <th>position</th>\n",
       "    </tr>\n",
       "  </thead>\n",
       "  <tbody>\n",
       "    <tr>\n",
       "      <th>0</th>\n",
       "      <td>300051</td>\n",
       "      <td>17</td>\n",
       "      <td>596</td>\n",
       "      <td>11307</td>\n",
       "      <td>3</td>\n",
       "      <td>20</td>\n",
       "      <td>7</td>\n",
       "      <td>6</td>\n",
       "      <td>1</td>\n",
       "      <td>1</td>\n",
       "      <td>-1</td>\n",
       "      <td>1</td>\n",
       "    </tr>\n",
       "    <tr>\n",
       "      <th>1</th>\n",
       "      <td>99355</td>\n",
       "      <td>6</td>\n",
       "      <td>141</td>\n",
       "      <td>11987</td>\n",
       "      <td>2</td>\n",
       "      <td>25</td>\n",
       "      <td>13</td>\n",
       "      <td>5</td>\n",
       "      <td>1</td>\n",
       "      <td>1</td>\n",
       "      <td>-1</td>\n",
       "      <td>1</td>\n",
       "    </tr>\n",
       "    <tr>\n",
       "      <th>2</th>\n",
       "      <td>890251</td>\n",
       "      <td>22</td>\n",
       "      <td>19</td>\n",
       "      <td>10044</td>\n",
       "      <td>2</td>\n",
       "      <td>5</td>\n",
       "      <td>4</td>\n",
       "      <td>5</td>\n",
       "      <td>1</td>\n",
       "      <td>1</td>\n",
       "      <td>-1</td>\n",
       "      <td>1</td>\n",
       "    </tr>\n",
       "    <tr>\n",
       "      <th>3</th>\n",
       "      <td>745817</td>\n",
       "      <td>26</td>\n",
       "      <td>39</td>\n",
       "      <td>633</td>\n",
       "      <td>1</td>\n",
       "      <td>0</td>\n",
       "      <td>19</td>\n",
       "      <td>3</td>\n",
       "      <td>1</td>\n",
       "      <td>1</td>\n",
       "      <td>1</td>\n",
       "      <td>2</td>\n",
       "    </tr>\n",
       "    <tr>\n",
       "      <th>4</th>\n",
       "      <td>421793</td>\n",
       "      <td>17</td>\n",
       "      <td>289</td>\n",
       "      <td>7970</td>\n",
       "      <td>3</td>\n",
       "      <td>15</td>\n",
       "      <td>8</td>\n",
       "      <td>7</td>\n",
       "      <td>1</td>\n",
       "      <td>1</td>\n",
       "      <td>0</td>\n",
       "      <td>2</td>\n",
       "    </tr>\n",
       "    <tr>\n",
       "      <th>...</th>\n",
       "      <td>...</td>\n",
       "      <td>...</td>\n",
       "      <td>...</td>\n",
       "      <td>...</td>\n",
       "      <td>...</td>\n",
       "      <td>...</td>\n",
       "      <td>...</td>\n",
       "      <td>...</td>\n",
       "      <td>...</td>\n",
       "      <td>...</td>\n",
       "      <td>...</td>\n",
       "      <td>...</td>\n",
       "    </tr>\n",
       "    <tr>\n",
       "      <th>86863</th>\n",
       "      <td>310028</td>\n",
       "      <td>4</td>\n",
       "      <td>605</td>\n",
       "      <td>3623</td>\n",
       "      <td>3</td>\n",
       "      <td>70</td>\n",
       "      <td>20</td>\n",
       "      <td>6</td>\n",
       "      <td>1</td>\n",
       "      <td>1</td>\n",
       "      <td>0</td>\n",
       "      <td>2</td>\n",
       "    </tr>\n",
       "    <tr>\n",
       "      <th>86864</th>\n",
       "      <td>663567</td>\n",
       "      <td>10</td>\n",
       "      <td>1407</td>\n",
       "      <td>11907</td>\n",
       "      <td>3</td>\n",
       "      <td>25</td>\n",
       "      <td>6</td>\n",
       "      <td>7</td>\n",
       "      <td>-1</td>\n",
       "      <td>1</td>\n",
       "      <td>-1</td>\n",
       "      <td>1</td>\n",
       "    </tr>\n",
       "    <tr>\n",
       "      <th>86865</th>\n",
       "      <td>1049160</td>\n",
       "      <td>22</td>\n",
       "      <td>1136</td>\n",
       "      <td>7712</td>\n",
       "      <td>1</td>\n",
       "      <td>50</td>\n",
       "      <td>3</td>\n",
       "      <td>3</td>\n",
       "      <td>1</td>\n",
       "      <td>1</td>\n",
       "      <td>-1</td>\n",
       "      <td>1</td>\n",
       "    </tr>\n",
       "    <tr>\n",
       "      <th>86866</th>\n",
       "      <td>442785</td>\n",
       "      <td>6</td>\n",
       "      <td>1041</td>\n",
       "      <td>912</td>\n",
       "      <td>2</td>\n",
       "      <td>5</td>\n",
       "      <td>9</td>\n",
       "      <td>5</td>\n",
       "      <td>1</td>\n",
       "      <td>1</td>\n",
       "      <td>-1</td>\n",
       "      <td>1</td>\n",
       "    </tr>\n",
       "    <tr>\n",
       "      <th>86867</th>\n",
       "      <td>501372</td>\n",
       "      <td>26</td>\n",
       "      <td>36</td>\n",
       "      <td>6436</td>\n",
       "      <td>2</td>\n",
       "      <td>10</td>\n",
       "      <td>11</td>\n",
       "      <td>4</td>\n",
       "      <td>1</td>\n",
       "      <td>1</td>\n",
       "      <td>0</td>\n",
       "      <td>1</td>\n",
       "    </tr>\n",
       "  </tbody>\n",
       "</table>\n",
       "<p>86868 rows × 12 columns</p>\n",
       "</div>"
      ],
      "text/plain": [
       "            id  g1    g2     g3  floors  age  area  height  surface  \\\n",
       "0       300051  17   596  11307       3   20     7       6        1   \n",
       "1        99355   6   141  11987       2   25    13       5        1   \n",
       "2       890251  22    19  10044       2    5     4       5        1   \n",
       "3       745817  26    39    633       1    0    19       3        1   \n",
       "4       421793  17   289   7970       3   15     8       7        1   \n",
       "...        ...  ..   ...    ...     ...  ...   ...     ...      ...   \n",
       "86863   310028   4   605   3623       3   70    20       6        1   \n",
       "86864   663567  10  1407  11907       3   25     6       7       -1   \n",
       "86865  1049160  22  1136   7712       1   50     3       3        1   \n",
       "86866   442785   6  1041    912       2    5     9       5        1   \n",
       "86867   501372  26    36   6436       2   10    11       4        1   \n",
       "\n",
       "       foundation  roof  position  \n",
       "0               1    -1         1  \n",
       "1               1    -1         1  \n",
       "2               1    -1         1  \n",
       "3               1     1         2  \n",
       "4               1     0         2  \n",
       "...           ...   ...       ...  \n",
       "86863           1     0         2  \n",
       "86864           1    -1         1  \n",
       "86865           1    -1         1  \n",
       "86866           1    -1         1  \n",
       "86867           1     0         1  \n",
       "\n",
       "[86868 rows x 12 columns]"
      ]
     },
     "execution_count": 19,
     "metadata": {},
     "output_type": "execute_result"
    }
   ],
   "source": [
    "data1"
   ]
  },
  {
   "cell_type": "code",
   "execution_count": 23,
   "metadata": {},
   "outputs": [],
   "source": [
    "pred = model.predict(data1.iloc[:,1:])\n"
   ]
  },
  {
   "cell_type": "code",
   "execution_count": 32,
   "metadata": {},
   "outputs": [],
   "source": [
    "x = pd.Series(pred,index = data1[\"id\"])"
   ]
  },
  {
   "cell_type": "code",
   "execution_count": 34,
   "metadata": {},
   "outputs": [],
   "source": [
    "x = pd.DataFrame(x)"
   ]
  },
  {
   "cell_type": "code",
   "execution_count": 40,
   "metadata": {},
   "outputs": [],
   "source": [
    "y = x.reset_index()"
   ]
  },
  {
   "cell_type": "code",
   "execution_count": 42,
   "metadata": {},
   "outputs": [],
   "source": [
    "y.columns = [\"building_id\",\"damage_grade\"]"
   ]
  },
  {
   "cell_type": "code",
   "execution_count": 48,
   "metadata": {},
   "outputs": [],
   "source": [
    "y = y.set_index(\"building_id\")"
   ]
  },
  {
   "cell_type": "code",
   "execution_count": 49,
   "metadata": {},
   "outputs": [
    {
     "data": {
      "text/html": [
       "<div>\n",
       "<style scoped>\n",
       "    .dataframe tbody tr th:only-of-type {\n",
       "        vertical-align: middle;\n",
       "    }\n",
       "\n",
       "    .dataframe tbody tr th {\n",
       "        vertical-align: top;\n",
       "    }\n",
       "\n",
       "    .dataframe thead th {\n",
       "        text-align: right;\n",
       "    }\n",
       "</style>\n",
       "<table border=\"1\" class=\"dataframe\">\n",
       "  <thead>\n",
       "    <tr style=\"text-align: right;\">\n",
       "      <th></th>\n",
       "      <th>damage_grade</th>\n",
       "    </tr>\n",
       "    <tr>\n",
       "      <th>building_id</th>\n",
       "      <th></th>\n",
       "    </tr>\n",
       "  </thead>\n",
       "  <tbody>\n",
       "    <tr>\n",
       "      <th>300051</th>\n",
       "      <td>2</td>\n",
       "    </tr>\n",
       "    <tr>\n",
       "      <th>99355</th>\n",
       "      <td>2</td>\n",
       "    </tr>\n",
       "    <tr>\n",
       "      <th>890251</th>\n",
       "      <td>2</td>\n",
       "    </tr>\n",
       "    <tr>\n",
       "      <th>745817</th>\n",
       "      <td>1</td>\n",
       "    </tr>\n",
       "    <tr>\n",
       "      <th>421793</th>\n",
       "      <td>3</td>\n",
       "    </tr>\n",
       "    <tr>\n",
       "      <th>...</th>\n",
       "      <td>...</td>\n",
       "    </tr>\n",
       "    <tr>\n",
       "      <th>310028</th>\n",
       "      <td>2</td>\n",
       "    </tr>\n",
       "    <tr>\n",
       "      <th>663567</th>\n",
       "      <td>2</td>\n",
       "    </tr>\n",
       "    <tr>\n",
       "      <th>1049160</th>\n",
       "      <td>2</td>\n",
       "    </tr>\n",
       "    <tr>\n",
       "      <th>442785</th>\n",
       "      <td>2</td>\n",
       "    </tr>\n",
       "    <tr>\n",
       "      <th>501372</th>\n",
       "      <td>2</td>\n",
       "    </tr>\n",
       "  </tbody>\n",
       "</table>\n",
       "<p>86868 rows × 1 columns</p>\n",
       "</div>"
      ],
      "text/plain": [
       "             damage_grade\n",
       "building_id              \n",
       "300051                  2\n",
       "99355                   2\n",
       "890251                  2\n",
       "745817                  1\n",
       "421793                  3\n",
       "...                   ...\n",
       "310028                  2\n",
       "663567                  2\n",
       "1049160                 2\n",
       "442785                  2\n",
       "501372                  2\n",
       "\n",
       "[86868 rows x 1 columns]"
      ]
     },
     "execution_count": 49,
     "metadata": {},
     "output_type": "execute_result"
    }
   ],
   "source": [
    "y"
   ]
  },
  {
   "cell_type": "code",
   "execution_count": 50,
   "metadata": {},
   "outputs": [],
   "source": [
    "y.to_csv(\"answer.csv\")"
   ]
  }
 ],
 "metadata": {
  "kernelspec": {
   "display_name": "Python 3",
   "language": "python",
   "name": "python3"
  },
  "language_info": {
   "codemirror_mode": {
    "name": "ipython",
    "version": 3
   },
   "file_extension": ".py",
   "mimetype": "text/x-python",
   "name": "python",
   "nbconvert_exporter": "python",
   "pygments_lexer": "ipython3",
   "version": "3.7.6"
  }
 },
 "nbformat": 4,
 "nbformat_minor": 4
}
